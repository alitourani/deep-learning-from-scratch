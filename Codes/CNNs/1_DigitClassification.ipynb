{
  "nbformat": 4,
  "nbformat_minor": 0,
  "metadata": {
    "colab": {
      "name": "1-DigitClassification.ipynb",
      "provenance": [],
      "authorship_tag": "ABX9TyML4tb6sN3wXw3MLHVTmpgL",
      "include_colab_link": true
    },
    "kernelspec": {
      "name": "python3",
      "display_name": "Python 3"
    },
    "language_info": {
      "name": "python"
    }
  },
  "cells": [
    {
      "cell_type": "markdown",
      "metadata": {
        "id": "view-in-github",
        "colab_type": "text"
      },
      "source": [
        "<a href=\"https://colab.research.google.com/github/alitourani/deep-learning-from-scratch/blob/main/Codes/CNNs/1_DigitClassification.ipynb\" target=\"_parent\"><img src=\"https://colab.research.google.com/assets/colab-badge.svg\" alt=\"Open In Colab\"/></a>"
      ]
    },
    {
      "cell_type": "markdown",
      "metadata": {
        "id": "kuK7TSHEPRCZ"
      },
      "source": [
        "# **Digit Classification**\n",
        "\n",
        "🎯 **Goal:** The main goal of this application is to build a model that classifies handwritten digits from give images\n",
        "\n",
        "🗄️ **Dataset:** [MNIST](https://yann.lecun.com/exdb/mnist/) (Modified National Institute of Standards and Technology) dataset"
      ]
    },
    {
      "cell_type": "markdown",
      "metadata": {
        "id": "Rx26T8VtQzaK"
      },
      "source": [
        "**I. Imports**"
      ]
    },
    {
      "cell_type": "code",
      "metadata": {
        "id": "LFoOgZLoO-Q_"
      },
      "source": [
        "import numpy as np\n",
        "from tensorflow import keras\n",
        "import matplotlib.pyplot as plt\n",
        "from keras.datasets import mnist # We are using Keras's built-in mnist dataset\n",
        "from tensorflow.keras.models import Sequential # A linear stack of model layers\n",
        "from tensorflow.keras.layers import Conv2D, MaxPooling2D, Dense, Flatten\n",
        "from tensorflow.keras.utils import to_categorical"
      ],
      "execution_count": null,
      "outputs": []
    },
    {
      "cell_type": "markdown",
      "metadata": {
        "id": "PGO1lqmsReTV"
      },
      "source": [
        "**II. Check the data structure**"
      ]
    },
    {
      "cell_type": "code",
      "metadata": {
        "colab": {
          "base_uri": "https://localhost:8080/",
          "height": 404
        },
        "id": "VjAE6CUfRm7J",
        "outputId": "71e729b1-14d5-4618-d86c-95e2ada26cb1"
      },
      "source": [
        "(trainingData, trainingLabels), (testData, testLabels) = mnist.load_data()\n",
        "\n",
        "print(f'Training data (image): {trainingData.shape}') # Contains 60,000 images (size: 28x28)\n",
        "print(f'Test data (image): {testData.shape}') # Contains 10,000 images (size: 28x28)\n",
        "print('-------------------------')\n",
        "print(f'Training labels (int): {trainingLabels.shape}') # Contains 60,000 integers\n",
        "print(f'Test labels (int): {testLabels.shape}') # Contains 10,000 integers\n",
        "\n",
        "# Let's check some instances\n",
        "print(f'\\nA sample with associated label: {trainingLabels[0]}')\n",
        "plt.imshow(trainingData[0])"
      ],
      "execution_count": null,
      "outputs": [
        {
          "output_type": "stream",
          "name": "stdout",
          "text": [
            "Training data (image): (60000, 28, 28)\n",
            "Test data (image): (10000, 28, 28)\n",
            "-------------------------\n",
            "Training labels (int): (60000,)\n",
            "Test labels (int): (10000,)\n",
            "\n",
            "A sample with associated label: 5\n"
          ]
        },
        {
          "output_type": "execute_result",
          "data": {
            "text/plain": [
              "<matplotlib.image.AxesImage at 0x7f6bf1861cd0>"
            ]
          },
          "metadata": {},
          "execution_count": 76
        },
        {
          "output_type": "display_data",
          "data": {
            "image/png": "[encoded data removed]",
            "text/plain": [
              "<Figure size 432x288 with 1 Axes>"
            ]
          },
          "metadata": {
            "needs_background": "light"
          }
        }
      ]
    },
    {
      "cell_type": "markdown",
      "metadata": {
        "id": "clu-w0c1YmHE"
      },
      "source": [
        "**III. Implementing the Model**"
      ]
    },
    {
      "cell_type": "code",
      "metadata": {
        "colab": {
          "base_uri": "https://localhost:8080/"
        },
        "id": "glFveRKhZNAn",
        "outputId": "0efbd9c9-5dff-442f-d6af-d3446b2d40c3"
      },
      "source": [
        "inputShape = (28, 28, 1) # Our input image sizes are 28x28 with one channel (grayscale)\n",
        "numberOfFilters = 8 # The depth of the convolution\n",
        "filterSize = 3 # The mask is 3x3\n",
        "poolSize = 2 # While pooling, the max value over a 2x2 pooling window\n",
        "\n",
        "model = Sequential([\n",
        "  Conv2D(numberOfFilters, filterSize, input_shape=inputShape), # Applying Convolution\n",
        "  MaxPooling2D(pool_size=poolSize), # Applying MaxPooling\n",
        "  Flatten(), # Flattening the image\n",
        "  Dense(10, activation='softmax'), # SoftMax\n",
        "])\n",
        "\n",
        "model.summary()"
      ],
      "execution_count": null,
      "outputs": [
        {
          "output_type": "stream",
          "name": "stdout",
          "text": [
            "Model: \"sequential_6\"\n",
            "_________________________________________________________________\n",
            "Layer (type)                 Output Shape              Param #   \n",
            "=================================================================\n",
            "conv2d_6 (Conv2D)            (None, 26, 26, 8)         80        \n",
            "_________________________________________________________________\n",
            "max_pooling2d_6 (MaxPooling2 (None, 13, 13, 8)         0         \n",
            "_________________________________________________________________\n",
            "flatten_6 (Flatten)          (None, 1352)              0         \n",
            "_________________________________________________________________\n",
            "dense_6 (Dense)              (None, 10)                13530     \n",
            "=================================================================\n",
            "Total params: 13,610\n",
            "Trainable params: 13,610\n",
            "Non-trainable params: 0\n",
            "_________________________________________________________________\n"
          ]
        }
      ]
    },
    {
      "cell_type": "markdown",
      "metadata": {
        "id": "wMQYNq2EbE48"
      },
      "source": [
        "**IV. Compiling the model**"
      ]
    },
    {
      "cell_type": "code",
      "metadata": {
        "colab": {
          "base_uri": "https://localhost:8080/"
        },
        "id": "a9XRboR8bMQB",
        "outputId": "aa50b009-923e-475e-a1dc-262c0fe343f2"
      },
      "source": [
        "optimizer = 'adam' # Other options: adamax, nadam, SGD, etc.\n",
        "loss='categorical_crossentropy' # Other options: binary_crossentropy (2-classes)\n",
        "metrics=['accuracy']\n",
        "\n",
        "model.compile(\n",
        "  optimizer,\n",
        "  loss,\n",
        "  metrics,\n",
        ")\n",
        "\n",
        "print('Model has been compiled successfully!')"
      ],
      "execution_count": null,
      "outputs": [
        {
          "output_type": "stream",
          "name": "stdout",
          "text": [
            "Model has been compiled successfully!\n"
          ]
        }
      ]
    },
    {
      "cell_type": "markdown",
      "metadata": {
        "id": "-pr4JgGQeOmU"
      },
      "source": [
        "**V. Training the model**"
      ]
    },
    {
      "cell_type": "code",
      "metadata": {
        "colab": {
          "base_uri": "https://localhost:8080/"
        },
        "id": "3phOjtiyeThi",
        "outputId": "3e9f9deb-b4da-45ae-eb5c-e8f4d936b3e8"
      },
      "source": [
        "numberOfEpochs = 10\n",
        "\n",
        "print('Reshaping the images to add channels ...')\n",
        "trainingData = np.expand_dims(trainingData, axis=3)\n",
        "testData = np.expand_dims(testData, axis=3)\n",
        "print(f'Training data shape: {trainingData.shape}')\n",
        "print(f'Test data shape: {testData.shape}')\n",
        "\n",
        "model.fit(\n",
        "  trainingData,\n",
        "  to_categorical(trainingLabels),\n",
        "  epochs=numberOfEpochs,\n",
        "  validation_data=(testData, to_categorical(testLabels))\n",
        ")"
      ],
      "execution_count": null,
      "outputs": [
        {
          "output_type": "stream",
          "name": "stdout",
          "text": [
            "Reshaping the images to add channels ...\n",
            "Training data shape: (60000, 28, 28, 1)\n",
            "Test data shape: (10000, 28, 28, 1)\n",
            "Epoch 1/10\n",
            "1875/1875 [==============================] - 14s 7ms/step - loss: 2.2227 - accuracy: 0.8942 - val_loss: 0.6041 - val_accuracy: 0.9381\n",
            "Epoch 2/10\n",
            "1875/1875 [==============================] - 14s 7ms/step - loss: 0.4680 - accuracy: 0.9430 - val_loss: 0.4752 - val_accuracy: 0.9434\n",
            "Epoch 3/10\n",
            "1875/1875 [==============================] - 13s 7ms/step - loss: 0.3418 - accuracy: 0.9497 - val_loss: 0.3341 - val_accuracy: 0.9503\n",
            "Epoch 4/10\n",
            "1875/1875 [==============================] - 14s 7ms/step - loss: 0.2694 - accuracy: 0.9547 - val_loss: 0.3377 - val_accuracy: 0.9454\n",
            "Epoch 5/10\n",
            "1875/1875 [==============================] - 14s 8ms/step - loss: 0.2267 - accuracy: 0.9574 - val_loss: 0.2467 - val_accuracy: 0.9562\n",
            "Epoch 6/10\n",
            "1875/1875 [==============================] - 14s 7ms/step - loss: 0.2004 - accuracy: 0.9595 - val_loss: 0.2789 - val_accuracy: 0.9512\n",
            "Epoch 7/10\n",
            "1875/1875 [==============================] - 14s 8ms/step - loss: 0.1878 - accuracy: 0.9619 - val_loss: 0.2246 - val_accuracy: 0.9596\n",
            "Epoch 8/10\n",
            "1875/1875 [==============================] - 14s 8ms/step - loss: 0.1926 - accuracy: 0.9605 - val_loss: 0.2484 - val_accuracy: 0.9592\n",
            "Epoch 9/10\n",
            "1875/1875 [==============================] - 14s 7ms/step - loss: 0.1739 - accuracy: 0.9644 - val_loss: 0.2637 - val_accuracy: 0.9573\n",
            "Epoch 10/10\n",
            "1875/1875 [==============================] - 14s 8ms/step - loss: 0.1748 - accuracy: 0.9634 - val_loss: 0.2594 - val_accuracy: 0.9555\n"
          ]
        },
        {
          "output_type": "execute_result",
          "data": {
            "text/plain": [
              "<keras.callbacks.History at 0x7f6bf191fed0>"
            ]
          },
          "metadata": {},
          "execution_count": 79
        }
      ]
    },
    {
      "cell_type": "markdown",
      "metadata": {
        "id": "TRzvG2Kao4xw"
      },
      "source": [
        "**VI. Saving the model for later use (Optional)**"
      ]
    },
    {
      "cell_type": "code",
      "metadata": {
        "id": "ZNFGclRloyi9"
      },
      "source": [
        "fileName = 'digitClassifier.h5'\n",
        "filePath = ''\n",
        "\n",
        "# model.save_weights(filePath + fileName)\n",
        "\n",
        "# We can later use the model by running \n",
        "# model.load_weights(filePath + fileName)"
      ],
      "execution_count": null,
      "outputs": []
    },
    {
      "cell_type": "markdown",
      "metadata": {
        "id": "Yuw-gIOFpnmI"
      },
      "source": [
        "**VII. Predicting**"
      ]
    },
    {
      "cell_type": "code",
      "metadata": {
        "colab": {
          "base_uri": "https://localhost:8080/"
        },
        "id": "p6XpHOafpqYv",
        "outputId": "9300a4c8-ba80-4a2d-988e-ee0f11b33cdb"
      },
      "source": [
        "numberOfSamples = 20\n",
        "\n",
        "groundTruth = testLabels[:numberOfSamples]\n",
        "predictions = model.predict(testData[:numberOfSamples])\n",
        "\n",
        "predictedArray = np.argmax(predictions, axis=1)\n",
        "\n",
        "print('Expected: ', groundTruth)\n",
        "print('Predicted: ', predictedArray)"
      ],
      "execution_count": null,
      "outputs": [
        {
          "output_type": "stream",
          "name": "stdout",
          "text": [
            "Expected:  [7 2 1 0 4 1 4 9 5 9 0 6 9 0 1 5 9 7 3 4]\n",
            "Predicted:  [7 2 1 0 4 1 4 9 5 9 0 6 9 0 1 5 9 7 3 4]\n"
          ]
        }
      ]
    }
  ]
}