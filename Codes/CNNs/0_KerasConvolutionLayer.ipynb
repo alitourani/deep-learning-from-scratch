{
  "nbformat": 4,
  "nbformat_minor": 0,
  "metadata": {
    "colab": {
      "name": "0-KerasConvolutionLayer.ipynb",
      "provenance": [],
      "authorship_tag": "ABX9TyPYTbUC/Vo7TtMy9qfJ8Z7X",
      "include_colab_link": true
    },
    "kernelspec": {
      "name": "python3",
      "display_name": "Python 3"
    },
    "language_info": {
      "name": "python"
    }
  },
  "cells": [
    {
      "cell_type": "markdown",
      "metadata": {
        "id": "view-in-github",
        "colab_type": "text"
      },
      "source": [
        "<a href=\"https://colab.research.google.com/github/alitourani/deep-learning-from-scratch/blob/main/Codes/CNNs/0_KerasConvolutionLayer.ipynb\" target=\"_parent\"><img src=\"https://colab.research.google.com/assets/colab-badge.svg\" alt=\"Open In Colab\"/></a>"
      ]
    },
    {
      "cell_type": "markdown",
      "metadata": {
        "id": "8BPuOGIe_AHR"
      },
      "source": [
        "**I. Convolution Layers**\n",
        "- [Conv1D Layer](https://keras.io/api/layers/convolution_layers/convolution1d)\n",
        "- [Conv2D Layer](https://keras.io/api/layers/convolution_layers/convolution2d)\n",
        "- [Conv3D Layer](https://keras.io/api/layers/convolution_layers/convolution3d)\n",
        "- [Other Conv Layers](https://keras.io/api/layers/convolution_layers/)"
      ]
    },
    {
      "cell_type": "markdown",
      "metadata": {
        "id": "T2aWtuJANSco"
      },
      "source": [
        "**I. 1D CNNs (Temporal Convolution)**"
      ]
    },
    {
      "cell_type": "code",
      "metadata": {
        "colab": {
          "base_uri": "https://localhost:8080/"
        },
        "id": "x7K6Re-hSJDA",
        "outputId": "b205f2cd-7abe-4dbf-df68-31cac52abaa2"
      },
      "source": [
        "import numpy as np\n",
        "\n",
        "input = np.array([1, 1, 1, 0, 1, 0, 0, 1, 1, 0]) # Input length: 10\n",
        "kernel = np.array([1, -1, 0])\n",
        "output = np.zeros(8) # The convolution result will have 8 items\n",
        "\n",
        "for index in range(8):\n",
        "    output[index] = (kernel * input[index:index+3]).sum()\n",
        "\n",
        "print('Output: ', output)"
      ],
      "execution_count": 58,
      "outputs": [
        {
          "output_type": "stream",
          "name": "stdout",
          "text": [
            "Output:  [ 0.  0.  1. -1.  1.  0. -1.  0.]\n"
          ]
        }
      ]
    },
    {
      "cell_type": "markdown",
      "metadata": {
        "id": "B50HIvxDaDaW"
      },
      "source": [
        "We can simply implement this code in Keras:"
      ]
    },
    {
      "cell_type": "code",
      "metadata": {
        "colab": {
          "base_uri": "https://localhost:8080/"
        },
        "id": "6FVcTKOiaLu2",
        "outputId": "b49a746b-f919-4223-984d-3a28eb93d72b"
      },
      "source": [
        "import numpy as np\n",
        "from keras.models import Sequential\n",
        "from tensorflow.keras.layers import Conv1D\n",
        "\n",
        "input = np.array([1, 1, 1, 0, 1, 0, 0, 1, 1, 0])\n",
        "\n",
        "# Let's prepare it for Keras\n",
        "input = input.reshape(1, 10, 1) # One input sample, with the length of 10, with one channel\n",
        "\n",
        "# Create a model\n",
        "model = Sequential()\n",
        "model.add(Conv1D(1, 3, input_shape=(10, 1))) # Our model has One filter with the shape (length) of 3\n",
        "\n",
        "kernel = np.array([[[1]],[[-1]],[[0]]]) # Based on the structure of weights\n",
        "weights = [np.array(kernel), np.array([0.0])]\n",
        "\n",
        "# Use the weights in the model\n",
        "model.set_weights(weights)\n",
        "\n",
        "output = model.predict(input)\n",
        "print('Output: ', output)"
      ],
      "execution_count": 64,
      "outputs": [
        {
          "output_type": "stream",
          "name": "stdout",
          "text": [
            "Output:  [[[ 0.]\n",
            "  [ 0.]\n",
            "  [ 1.]\n",
            "  [-1.]\n",
            "  [ 1.]\n",
            "  [ 0.]\n",
            "  [-1.]\n",
            "  [ 0.]]]\n"
          ]
        }
      ]
    },
    {
      "cell_type": "markdown",
      "metadata": {
        "id": "VoYrXxnRTrTv"
      },
      "source": [
        "**II. 2D CNNs**"
      ]
    },
    {
      "cell_type": "markdown",
      "metadata": {
        "id": "Qib9poF4T6De"
      },
      "source": [
        "Recall the example we have analyzed: ([CNN Slides](https://github.com/alitourani/deep-learning-from-scratch/blob/main/Slides/7-Convolutional%20Neural%20Neworks.pdf) - Page 40)"
      ]
    },
    {
      "cell_type": "code",
      "metadata": {
        "colab": {
          "base_uri": "https://localhost:8080/"
        },
        "id": "hlBxXiyMTeYd",
        "outputId": "b7859ddc-642d-4ffb-c509-98dd530bfba2"
      },
      "source": [
        "import numpy as np\n",
        "\n",
        "input = [[1, 0, 1, 0, 1], \n",
        "    [1, 1, 1, 0, 0],\n",
        "    [1, 0, 1, 1, 0],\n",
        "    [0, 0, 1, 0, 1],\n",
        "    [0, 1, 1, 1, 0]]\n",
        "input = np.asarray(input)\n",
        "kernel = np.array([[1, 0, 1], [0, 1, 1], [1, 0, 1]])\n",
        "\n",
        "kernelSize = kernel.shape[0]\n",
        "outputSize = input.shape[0] - kernelSize + 1\n",
        "\n",
        "output = np.zeros([outputSize, outputSize])\n",
        "\n",
        "print(f'A {input.shape} matrix, with an kernel of size {kernel.shape}\\n')\n",
        "\n",
        "for outerIndex in range(outputSize):\n",
        "    for innerIndex in range(outputSize):\n",
        "        output[outerIndex, innerIndex] = (input[outerIndex:outerIndex+3, innerIndex:innerIndex+3] * kernel).sum()\n",
        "\n",
        "print('Output:\\n', output)"
      ],
      "execution_count": 60,
      "outputs": [
        {
          "output_type": "stream",
          "name": "stdout",
          "text": [
            "A (5, 5) matrix, with an kernel of size (3, 3)\n",
            "\n",
            "Output:\n",
            " [[6. 2. 3.]\n",
            " [4. 3. 4.]\n",
            " [4. 4. 3.]]\n"
          ]
        }
      ]
    },
    {
      "cell_type": "markdown",
      "metadata": {
        "id": "mxg8bD6AeZCn"
      },
      "source": [
        "We can simply implement this code in Keras as well:"
      ]
    },
    {
      "cell_type": "code",
      "metadata": {
        "colab": {
          "base_uri": "https://localhost:8080/"
        },
        "id": "-5UznynuebLn",
        "outputId": "c4cd4471-93fa-41d0-c6db-e51a366c2ca0"
      },
      "source": [
        "import numpy as np\n",
        "from tensorflow.keras.layers import Conv2D\n",
        "\n",
        "input = [[1, 0, 1, 0, 1], \n",
        "    [1, 1, 1, 0, 0],\n",
        "    [1, 0, 1, 1, 0],\n",
        "    [0, 0, 1, 0, 1],\n",
        "    [0, 1, 1, 1, 0]]\n",
        "input = np.asarray(input) # The input is 5x5\n",
        "\n",
        "# Let's prepare it for Keras\n",
        "input = input.reshape(1, 5, 5, 1) # One input sample, with the 5 rows and 5 columns, with one channel\n",
        "\n",
        "# Create a model\n",
        "model = Sequential()\n",
        "model.add(Conv2D(1, (3,3), input_shape=(5, 5, 1))) # Our model has One filter with the shape (length) of 3x3\n",
        "\n",
        "kernel = [[[[1]],[[0]],[[1]]],\n",
        "            [[[0]],[[1]],[[1]]],\n",
        "            [[[1]],[[0]],[[1]]]] # Based on the structure of weights\n",
        "weights = [np.array(kernel), np.array([0.0])]\n",
        "\n",
        "# Use the weights in the model\n",
        "model.set_weights(weights)\n",
        "\n",
        "output = model.predict(input)\n",
        "print('Output: ', output)"
      ],
      "execution_count": 66,
      "outputs": [
        {
          "output_type": "stream",
          "name": "stdout",
          "text": [
            "Output:  [[[[6.]\n",
            "   [2.]\n",
            "   [3.]]\n",
            "\n",
            "  [[4.]\n",
            "   [3.]\n",
            "   [4.]]\n",
            "\n",
            "  [[4.]\n",
            "   [4.]\n",
            "   [3.]]]]\n"
          ]
        }
      ]
    },
    {
      "cell_type": "markdown",
      "metadata": {
        "id": "SFk4nl03ZI4E"
      },
      "source": [
        "Let's apply some convolution filters on images?"
      ]
    },
    {
      "cell_type": "code",
      "metadata": {
        "colab": {
          "base_uri": "https://localhost:8080/"
        },
        "id": "4MLwZlvpilfV",
        "outputId": "690251a7-3d56-4208-c44c-faa07dddc8fa"
      },
      "source": [
        "from tensorflow.keras.models import Sequential\n",
        "from tensorflow.keras.layers import Conv2D, Flatten, Dense\n",
        "\n",
        "rows, columns = 28, 28 # Resolution of the input image\n",
        "\n",
        "# Create a model\n",
        "model = Sequential()\n",
        "model.add(Conv2D(10, kernel_size=3, activation='relu', input_shape=(rows, columns, 1)))\n",
        "model.add(Flatten())\n",
        "model.add(Dense(3, activation='softmax'))\n",
        "\n",
        "model.summary()"
      ],
      "execution_count": 94,
      "outputs": [
        {
          "output_type": "stream",
          "name": "stdout",
          "text": [
            "Model: \"sequential_25\"\n",
            "_________________________________________________________________\n",
            "Layer (type)                 Output Shape              Param #   \n",
            "=================================================================\n",
            "conv2d_9 (Conv2D)            (None, 26, 26, 10)        100       \n",
            "_________________________________________________________________\n",
            "flatten_5 (Flatten)          (None, 6760)              0         \n",
            "_________________________________________________________________\n",
            "dense_5 (Dense)              (None, 3)                 20283     \n",
            "=================================================================\n",
            "Total params: 20,383\n",
            "Trainable params: 20,383\n",
            "Non-trainable params: 0\n",
            "_________________________________________________________________\n"
          ]
        }
      ]
    }
  ]
}