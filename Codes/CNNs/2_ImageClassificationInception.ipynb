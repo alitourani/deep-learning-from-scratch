{
  "cells": [
    {
      "cell_type": "markdown",
      "metadata": {
        "colab_type": "text",
        "id": "view-in-github"
      },
      "source": [
        "<a href=\"https://colab.research.google.com/github/alitourani/deep-learning-from-scratch/blob/main/Codes/CNNs/1_DigitClassification.ipynb\" target=\"_parent\"><img src=\"https://colab.research.google.com/assets/colab-badge.svg\" alt=\"Open In Colab\"/></a>"
      ]
    },
    {
      "cell_type": "markdown",
      "metadata": {
        "id": "kuK7TSHEPRCZ"
      },
      "source": [
        "# **Image Classification using Inception 3.0 (GoogLeNet)**\n",
        "\n",
        "🎯 **Goal:** The main goal of this application is to use a pre-trained network for image classification\n",
        "\n",
        "**More:** https://pyimagesearch.com/2016/08/10/imagenet-classification-with-python-and-keras/"
      ]
    },
    {
      "cell_type": "markdown",
      "metadata": {
        "id": "Rx26T8VtQzaK"
      },
      "source": [
        "**I. Imports and Configurations**"
      ]
    },
    {
      "cell_type": "code",
      "execution_count": 3,
      "metadata": {
        "id": "LFoOgZLoO-Q_"
      },
      "outputs": [],
      "source": [
        "import time\n",
        "import cv2 as cv\n",
        "import numpy as np\n",
        "from tensorflow import keras\n",
        "from keras.applications.inception_v3 import InceptionV3, preprocess_input"
      ]
    },
    {
      "cell_type": "code",
      "execution_count": 4,
      "metadata": {},
      "outputs": [],
      "source": [
        "imagePath = './_testData/test1_catAndDog.jpg'"
      ]
    },
    {
      "cell_type": "markdown",
      "metadata": {},
      "source": [
        "**II. Loading Data for the Network**"
      ]
    },
    {
      "cell_type": "code",
      "execution_count": 6,
      "metadata": {},
      "outputs": [
        {
          "data": {
            "text/plain": [
              "-1"
            ]
          },
          "execution_count": 6,
          "metadata": {},
          "output_type": "execute_result"
        }
      ],
      "source": [
        "# Load the input image\n",
        "image = cv.imread(imagePath)\n",
        "# cv.imshow(\"Image\", image)\n",
        "# cv.waitKey(0)"
      ]
    },
    {
      "cell_type": "code",
      "execution_count": null,
      "metadata": {},
      "outputs": [],
      "source": [
        "# Load model\n",
        "model = InceptionV3(weights='imagenet', include_top=True)"
      ]
    }
  ],
  "metadata": {
    "colab": {
      "authorship_tag": "ABX9TyML4tb6sN3wXw3MLHVTmpgL",
      "include_colab_link": true,
      "name": "1-DigitClassification.ipynb",
      "provenance": []
    },
    "kernelspec": {
      "display_name": "Python 3.10.4 64-bit",
      "language": "python",
      "name": "python3"
    },
    "language_info": {
      "codemirror_mode": {
        "name": "ipython",
        "version": 3
      },
      "file_extension": ".py",
      "mimetype": "text/x-python",
      "name": "python",
      "nbconvert_exporter": "python",
      "pygments_lexer": "ipython3",
      "version": "3.10.4"
    },
    "vscode": {
      "interpreter": {
        "hash": "369f2c481f4da34e4445cda3fffd2e751bd1c4d706f27375911949ba6bb62e1c"
      }
    }
  },
  "nbformat": 4,
  "nbformat_minor": 0
}
