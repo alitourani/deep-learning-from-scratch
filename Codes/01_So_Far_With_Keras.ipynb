{
  "nbformat": 4,
  "nbformat_minor": 0,
  "metadata": {
    "colab": {
      "name": "01-So_Far_With_Keras.ipynb",
      "provenance": [],
      "authorship_tag": "ABX9TyORU7wHGQoyYEPzUIt6k2aV",
      "include_colab_link": true
    },
    "kernelspec": {
      "name": "python3",
      "display_name": "Python 3"
    },
    "language_info": {
      "name": "python"
    }
  },
  "cells": [
    {
      "cell_type": "markdown",
      "metadata": {
        "id": "view-in-github",
        "colab_type": "text"
      },
      "source": [
        "<a href=\"https://colab.research.google.com/github/alitourani/deep-learning-from-scratch/blob/main/Codes/01_So_Far_With_Keras.ipynb\" target=\"_parent\"><img src=\"https://colab.research.google.com/assets/colab-badge.svg\" alt=\"Open In Colab\"/></a>"
      ]
    },
    {
      "cell_type": "markdown",
      "metadata": {
        "id": "eXBTyU8oIrAW"
      },
      "source": [
        "🚀 **Let's see how does the concepts we've learnt so far appears in Keras**\n",
        "\n",
        "Note: The presentation for this file is here ***(Session 5 - platforms)***\n",
        "\n",
        "References:\n",
        "1- https://keras.io/api/models/model/\n",
        "2- https://keras.io/api/"
      ]
    },
    {
      "cell_type": "markdown",
      "metadata": {
        "id": "ouWm35q3JhT9"
      },
      "source": [
        "**I. Models**"
      ]
    },
    {
      "cell_type": "code",
      "metadata": {
        "colab": {
          "base_uri": "https://localhost:8080/"
        },
        "id": "uqGBcobxGpCD",
        "outputId": "7346b161-8d80-4478-ac79-e64fa5ad2796"
      },
      "source": [
        "import tensorflow as tf\n",
        "\n",
        "# A very simple model\n",
        "# More on https://keras.io/api/models/model/\n",
        "inputLayer = tf.keras.Input(shape=(3,)) # A \n",
        "hiddenLayers = tf.keras.layers.Dense(4, activation = tf.nn.relu)(inputLayer) # Fours layers with ReLU AF\n",
        "outputLayer = tf.keras.layers.Dense(5, activation = tf.nn.softmax)(hiddenLayers)\n",
        "model = tf.keras.Model(inputs = inputLayer, outputs = outputLayer)\n",
        "\n",
        "# Let's print a summary of the network\n",
        "model.summary(line_length = None, positions = None, print_fn = None)\n",
        "\n",
        "# Another model, this time a sequential one\n",
        "# More on https://keras.io/api/models/sequential/\n",
        "modelSequential = tf.keras.Sequential()\n",
        "modelSequential.add(tf.keras.layers.Dense(8, input_shape=(16,)))\n",
        "modelSequential.add(tf.keras.layers.Dense(4))\n",
        "modelSequential.build((None, 16))\n",
        "len(modelSequential.weights)"
      ],
      "execution_count": 6,
      "outputs": [
        {
          "output_type": "stream",
          "text": [
            "Model: \"model_5\"\n",
            "_________________________________________________________________\n",
            "Layer (type)                 Output Shape              Param #   \n",
            "=================================================================\n",
            "input_6 (InputLayer)         [(None, 3)]               0         \n",
            "_________________________________________________________________\n",
            "dense_10 (Dense)             (None, 4)                 16        \n",
            "_________________________________________________________________\n",
            "dense_11 (Dense)             (None, 5)                 25        \n",
            "=================================================================\n",
            "Total params: 41\n",
            "Trainable params: 41\n",
            "Non-trainable params: 0\n",
            "_________________________________________________________________\n"
          ],
          "name": "stdout"
        },
        {
          "output_type": "execute_result",
          "data": {
            "text/plain": [
              "4"
            ]
          },
          "metadata": {},
          "execution_count": 6
        }
      ]
    }
  ]
}