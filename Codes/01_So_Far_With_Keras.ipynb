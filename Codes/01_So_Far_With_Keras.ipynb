{
  "nbformat": 4,
  "nbformat_minor": 0,
  "metadata": {
    "colab": {
      "name": "01-So_Far_With_Keras.ipynb",
      "provenance": [],
      "authorship_tag": "ABX9TyNmKEDHV1uQOS8kx0k0QWv6",
      "include_colab_link": true
    },
    "kernelspec": {
      "name": "python3",
      "display_name": "Python 3"
    },
    "language_info": {
      "name": "python"
    }
  },
  "cells": [
    {
      "cell_type": "markdown",
      "metadata": {
        "id": "view-in-github",
        "colab_type": "text"
      },
      "source": [
        "<a href=\"https://colab.research.google.com/github/alitourani/deep-learning-from-scratch/blob/main/Codes/01_So_Far_With_Keras.ipynb\" target=\"_parent\"><img src=\"https://colab.research.google.com/assets/colab-badge.svg\" alt=\"Open In Colab\"/></a>"
      ]
    },
    {
      "cell_type": "markdown",
      "metadata": {
        "id": "eXBTyU8oIrAW"
      },
      "source": [
        "🚀 **Let's see how does the concepts we've learnt so far appears in Keras**\n",
        "\n",
        "Note: You can find the presentation for this code sample [here](https://github.com/alitourani/deep-learning-from-scratch/blob/main/Slides/5-Frameworks.pdf) (Session 5 - Frameworks)\n",
        "\n",
        "Reference: [Keras website](https://keras.io)"
      ]
    },
    {
      "cell_type": "markdown",
      "metadata": {
        "id": "ouWm35q3JhT9"
      },
      "source": [
        "**I. Models (Functional and Sequential)**"
      ]
    },
    {
      "cell_type": "code",
      "metadata": {
        "colab": {
          "base_uri": "https://localhost:8080/"
        },
        "id": "uqGBcobxGpCD",
        "outputId": "f52fc4e1-c14e-483d-f021-769e6631419f"
      },
      "source": [
        "import tensorflow as tf\n",
        "from tensorflow import keras\n",
        "from keras.layers import Input, Dense\n",
        "\n",
        "# A very simple functional model (using Keras functional API)\n",
        "# More on https://keras.io/api/models/model/\n",
        "inputLayer = Input(shape=(3,)) # A standalone input layer with 3 inputs\n",
        "hiddenLayer = Dense(4, activation = tf.nn.relu)(inputLayer) # A hidden layer with 4 neurons and ReLU AF\n",
        "outputLayer = Dense(5, activation = tf.nn.softmax)(hiddenLayer)\n",
        "functionalModel = keras.Model(inputs = inputLayer, outputs = outputLayer)\n",
        "\n",
        "# Let's print a summary of the network\n",
        "functionalModel.summary()"
      ],
      "execution_count": null,
      "outputs": [
        {
          "output_type": "stream",
          "text": [
            "Model: \"model_9\"\n",
            "_________________________________________________________________\n",
            "Layer (type)                 Output Shape              Param #   \n",
            "=================================================================\n",
            "input_10 (InputLayer)        [(None, 3)]               0         \n",
            "_________________________________________________________________\n",
            "dense_30 (Dense)             (None, 4)                 16        \n",
            "_________________________________________________________________\n",
            "dense_31 (Dense)             (None, 5)                 25        \n",
            "=================================================================\n",
            "Total params: 41\n",
            "Trainable params: 41\n",
            "Non-trainable params: 0\n",
            "_________________________________________________________________\n"
          ],
          "name": "stdout"
        }
      ]
    },
    {
      "cell_type": "code",
      "metadata": {
        "colab": {
          "base_uri": "https://localhost:8080/"
        },
        "id": "wmxE3XBbUWfV",
        "outputId": "9cc75283-bfcc-4306-99ad-abd1f28db000"
      },
      "source": [
        "import tensorflow as tf\n",
        "from tensorflow import keras\n",
        "from keras.layers import Input, Dense\n",
        "\n",
        "# Another model, this time a Sequential one\n",
        "# More on https://keras.io/api/models/sequential/\n",
        "# Note: Sequential model is not proper for multiple different input sources, or reusable layers\n",
        "sequentialModel = keras.Sequential()\n",
        "sequentialModel.add(tf.keras.layers.Dense(4, input_shape=(16,)))\n",
        "sequentialModel.add(keras.layers.Dense(4))\n",
        "# Or: Sequential([Dense(2, input_dim=16), Dense(4)])\n",
        "sequentialModel.summary()\n",
        "\n",
        "# Now, let's config the model for training\n",
        "sequentialModel.compile(\n",
        "    optimizer = keras.optimizers.SGD(learning_rate=0.1), # Gradient Descent\n",
        "    loss = keras.losses.mean_absolute_error, # Loss function\n",
        "    metrics = [keras.metrics.TrueNegatives(), keras.metrics.TruePositives()] # Metrics to be evaluated by the model during training and testing\n",
        ")\n"
      ],
      "execution_count": null,
      "outputs": [
        {
          "output_type": "stream",
          "text": [
            "Model: \"sequential_34\"\n",
            "_________________________________________________________________\n",
            "Layer (type)                 Output Shape              Param #   \n",
            "=================================================================\n",
            "dense_88 (Dense)             (None, 4)                 68        \n",
            "_________________________________________________________________\n",
            "dense_89 (Dense)             (None, 4)                 20        \n",
            "=================================================================\n",
            "Total params: 88\n",
            "Trainable params: 88\n",
            "Non-trainable params: 0\n",
            "_________________________________________________________________\n"
          ],
          "name": "stdout"
        }
      ]
    },
    {
      "cell_type": "markdown",
      "metadata": {
        "id": "6wtPk5RCeX04"
      },
      "source": [
        "**Extending our Previous Example ([link](https://github.com/alitourani/deep-learning-from-scratch/blob/main/Codes/00_Getting_Started_with_Google_Colab.ipynb))**"
      ]
    },
    {
      "cell_type": "code",
      "metadata": {
        "colab": {
          "base_uri": "https://localhost:8080/"
        },
        "id": "VIKeZYAmeTb5",
        "outputId": "43548757-e5c8-48e3-c675-85bbf925fdb7"
      },
      "source": [
        "import tensorflow as tf\n",
        "from numpy import loadtxt\n",
        "from tensorflow import keras\n",
        "from keras.layers import Dense\n",
        "from keras.models import Sequential\n",
        "\n",
        "# Loading data\n",
        "print('Loading dataset ...\\n')\n",
        "datasetUrl = 'https://raw.githubusercontent.com/jbrownlee/Datasets/master/pima-indians-diabetes.data.csv'\n",
        "dataset = loadtxt(datasetUrl, delimiter=',')\n",
        "\n",
        "# Data Splitting\n",
        "print('Splitting dataset ...')\n",
        "inputItems = dataset[: , 0:8]\n",
        "outputItems = dataset[: , 8]\n",
        "\n",
        "# Defining the model\n",
        "print('Defining the model ...')\n",
        "sequentialModel = Sequential()\n",
        "sequentialModel.add(Dense(12, input_dim = 8, activation = tf.nn.relu))\n",
        "sequentialModel.add(Dense(8, activation = tf.nn.relu))\n",
        "sequentialModel.add(Dense(1, activation = tf.nn.sigmoid))\n",
        "\n",
        "# Callbacks to monitor the metrics with no improving\n",
        "callback = keras.callbacks.EarlyStopping(\n",
        "    monitor=\"loss\", # Quantity to be monitored\n",
        "    min_delta=0.001, # Minimum change in the monitored quantity\n",
        "    patience=0, # Number of epochs with no improvement after\n",
        "    verbose=0,\n",
        "    mode=\"auto\", # Can be auto, min (when stopped decreasing), or max (when stopped increasing)\n",
        "    baseline=None, # Baseline value for the monitored quantity\n",
        "    restore_best_weights=False, #  Restore model weights from the epoch with the best values\n",
        ")\n",
        "\n",
        "# Now, let's config the model for training\n",
        "sequentialModel.compile(\n",
        "    optimizer = keras.optimizers.SGD(learning_rate=0.1), # Gradient Descent (See more on https://keras.io/api/optimizers/)\n",
        "    loss = keras.losses.mean_absolute_error, # Loss function (See more on https://keras.io/api/losses/)\n",
        "    metrics = [keras.metrics.TrueNegatives(), keras.metrics.TruePositives()] # Metrics to be evaluated by the model during training and testing (See more on https://keras.io/api/metrics/)\n",
        ")\n",
        "\n",
        "# Fitting the model\n",
        "print('Training the model ...')\n",
        "# And for fitting the model (training the model for a fixed number of epochs)\n",
        "sequentialModel.fit(\n",
        "    x=inputItems, # Input data\n",
        "    y=outputItems, # Output data\n",
        "    batch_size=50, # Batch size\n",
        "    epochs=50, # Number of epochs\n",
        "    verbose=1, # Type of visualization (0=silent, 1=progress_bar, 2=one line per epoch)\n",
        "    callbacks=None, # What callbacks to be applied? (keras.callbacks)\n",
        "    validation_split=0.2, # Size of dev set\n",
        "    validation_data=None, # Which data to be used for validation\n",
        "    shuffle=True, # Shuffle the training data before each epoch\n",
        "    class_weight=None, # Put more values on some classes\n",
        "    sample_weight=None, # Array of weights for training\n",
        "    initial_epoch=0, # Skip training for epochs before a given number\n",
        "    steps_per_epoch=None, # Total number of steps before each epoch\n",
        "    validation_steps=None, # Total number of steps before validating\n",
        "    validation_batch_size=None,\n",
        "    validation_freq=1, # Number of training epochs to run before a new validation run\n",
        "    max_queue_size=10, # Size of the generator queue\n",
        "    workers=1, # Number of processes to spin\n",
        "    use_multiprocessing=False # Process-based threading\n",
        ")\n",
        "\n",
        "# Evaluating\n",
        "print('Evaulating ...')\n",
        "evaluationResult = sequentialModel.evaluate(\n",
        "    x=inputItems,\n",
        "    y=outputItems,\n",
        "    batch_size=50,\n",
        "    verbose=1,\n",
        "    sample_weight=None,\n",
        "    steps=None,\n",
        "    callbacks=None,\n",
        "    max_queue_size=10,\n",
        "    workers=1,\n",
        "    use_multiprocessing=False,\n",
        "    return_dict=False,\n",
        ")\n",
        "sequentialModel.evaluate(inputItems, outputItems)\n",
        "print(f'Accuracy: {evaluationResult}')\n"
      ],
      "execution_count": 7,
      "outputs": [
        {
          "output_type": "stream",
          "text": [
            "Loading dataset ...\n",
            "\n",
            "Splitting dataset ...\n",
            "Defining the model ...\n",
            "Training the model ...\n",
            "Epoch 1/50\n",
            "13/13 [==============================] - 1s 25ms/step - loss: 0.3853 - true_negatives_6: 347.0000 - true_positives_6: 30.0000 - val_loss: 0.3539 - val_true_negatives_6: 97.0000 - val_true_positives_6: 3.0000\n",
            "Epoch 2/50\n",
            "13/13 [==============================] - 0s 5ms/step - loss: 0.3567 - true_negatives_6: 394.0000 - true_positives_6: 1.0000 - val_loss: 0.3571 - val_true_negatives_6: 99.0000 - val_true_positives_6: 0.0000e+00\n",
            "Epoch 3/50\n",
            "13/13 [==============================] - 0s 4ms/step - loss: 0.3485 - true_negatives_6: 398.0000 - true_positives_6: 2.0000 - val_loss: 0.3571 - val_true_negatives_6: 99.0000 - val_true_positives_6: 0.0000e+00\n",
            "Epoch 4/50\n",
            "13/13 [==============================] - 0s 5ms/step - loss: 0.3485 - true_negatives_6: 398.0000 - true_positives_6: 2.0000 - val_loss: 0.3571 - val_true_negatives_6: 99.0000 - val_true_positives_6: 0.0000e+00\n",
            "Epoch 5/50\n",
            "13/13 [==============================] - 0s 5ms/step - loss: 0.3485 - true_negatives_6: 398.0000 - true_positives_6: 2.0000 - val_loss: 0.3571 - val_true_negatives_6: 99.0000 - val_true_positives_6: 0.0000e+00\n",
            "Epoch 6/50\n",
            "13/13 [==============================] - 0s 5ms/step - loss: 0.3485 - true_negatives_6: 398.0000 - true_positives_6: 2.0000 - val_loss: 0.3571 - val_true_negatives_6: 99.0000 - val_true_positives_6: 0.0000e+00\n",
            "Epoch 7/50\n",
            "13/13 [==============================] - 0s 5ms/step - loss: 0.3485 - true_negatives_6: 398.0000 - true_positives_6: 2.0000 - val_loss: 0.3571 - val_true_negatives_6: 99.0000 - val_true_positives_6: 0.0000e+00\n",
            "Epoch 8/50\n",
            "13/13 [==============================] - 0s 5ms/step - loss: 0.3484 - true_negatives_6: 398.0000 - true_positives_6: 2.0000 - val_loss: 0.3571 - val_true_negatives_6: 99.0000 - val_true_positives_6: 0.0000e+00\n",
            "Epoch 9/50\n",
            "13/13 [==============================] - 0s 4ms/step - loss: 0.3479 - true_negatives_6: 398.0000 - true_positives_6: 2.0000 - val_loss: 0.3571 - val_true_negatives_6: 99.0000 - val_true_positives_6: 0.0000e+00\n",
            "Epoch 10/50\n",
            "13/13 [==============================] - 0s 3ms/step - loss: 0.3496 - true_negatives_6: 398.0000 - true_positives_6: 1.0000 - val_loss: 0.3571 - val_true_negatives_6: 99.0000 - val_true_positives_6: 0.0000e+00\n",
            "Epoch 11/50\n",
            "13/13 [==============================] - 0s 4ms/step - loss: 0.3474 - true_negatives_6: 401.0000 - true_positives_6: 0.0000e+00 - val_loss: 0.3571 - val_true_negatives_6: 99.0000 - val_true_positives_6: 0.0000e+00\n",
            "Epoch 12/50\n",
            "13/13 [==============================] - 0s 5ms/step - loss: 0.3469 - true_negatives_6: 401.0000 - true_positives_6: 0.0000e+00 - val_loss: 0.3571 - val_true_negatives_6: 99.0000 - val_true_positives_6: 0.0000e+00\n",
            "Epoch 13/50\n",
            "13/13 [==============================] - 0s 3ms/step - loss: 0.3469 - true_negatives_6: 401.0000 - true_positives_6: 0.0000e+00 - val_loss: 0.3571 - val_true_negatives_6: 99.0000 - val_true_positives_6: 0.0000e+00\n",
            "Epoch 14/50\n",
            "13/13 [==============================] - 0s 5ms/step - loss: 0.3469 - true_negatives_6: 401.0000 - true_positives_6: 0.0000e+00 - val_loss: 0.3571 - val_true_negatives_6: 99.0000 - val_true_positives_6: 0.0000e+00\n",
            "Epoch 15/50\n",
            "13/13 [==============================] - 0s 3ms/step - loss: 0.3469 - true_negatives_6: 401.0000 - true_positives_6: 0.0000e+00 - val_loss: 0.3571 - val_true_negatives_6: 99.0000 - val_true_positives_6: 0.0000e+00\n",
            "Epoch 16/50\n",
            "13/13 [==============================] - 0s 4ms/step - loss: 0.3469 - true_negatives_6: 401.0000 - true_positives_6: 0.0000e+00 - val_loss: 0.3571 - val_true_negatives_6: 99.0000 - val_true_positives_6: 0.0000e+00\n",
            "Epoch 17/50\n",
            "13/13 [==============================] - 0s 4ms/step - loss: 0.3469 - true_negatives_6: 401.0000 - true_positives_6: 0.0000e+00 - val_loss: 0.3571 - val_true_negatives_6: 99.0000 - val_true_positives_6: 0.0000e+00\n",
            "Epoch 18/50\n",
            "13/13 [==============================] - 0s 5ms/step - loss: 0.3469 - true_negatives_6: 401.0000 - true_positives_6: 0.0000e+00 - val_loss: 0.3571 - val_true_negatives_6: 99.0000 - val_true_positives_6: 0.0000e+00\n",
            "Epoch 19/50\n",
            "13/13 [==============================] - 0s 4ms/step - loss: 0.3469 - true_negatives_6: 401.0000 - true_positives_6: 0.0000e+00 - val_loss: 0.3571 - val_true_negatives_6: 99.0000 - val_true_positives_6: 0.0000e+00\n",
            "Epoch 20/50\n",
            "13/13 [==============================] - 0s 4ms/step - loss: 0.3469 - true_negatives_6: 401.0000 - true_positives_6: 0.0000e+00 - val_loss: 0.3571 - val_true_negatives_6: 99.0000 - val_true_positives_6: 0.0000e+00\n",
            "Epoch 21/50\n",
            "13/13 [==============================] - 0s 4ms/step - loss: 0.3469 - true_negatives_6: 401.0000 - true_positives_6: 0.0000e+00 - val_loss: 0.3571 - val_true_negatives_6: 99.0000 - val_true_positives_6: 0.0000e+00\n",
            "Epoch 22/50\n",
            "13/13 [==============================] - 0s 3ms/step - loss: 0.3469 - true_negatives_6: 401.0000 - true_positives_6: 0.0000e+00 - val_loss: 0.3571 - val_true_negatives_6: 99.0000 - val_true_positives_6: 0.0000e+00\n",
            "Epoch 23/50\n",
            "13/13 [==============================] - 0s 3ms/step - loss: 0.3469 - true_negatives_6: 401.0000 - true_positives_6: 0.0000e+00 - val_loss: 0.3571 - val_true_negatives_6: 99.0000 - val_true_positives_6: 0.0000e+00\n",
            "Epoch 24/50\n",
            "13/13 [==============================] - 0s 4ms/step - loss: 0.3469 - true_negatives_6: 401.0000 - true_positives_6: 0.0000e+00 - val_loss: 0.3571 - val_true_negatives_6: 99.0000 - val_true_positives_6: 0.0000e+00\n",
            "Epoch 25/50\n",
            "13/13 [==============================] - 0s 4ms/step - loss: 0.3469 - true_negatives_6: 401.0000 - true_positives_6: 0.0000e+00 - val_loss: 0.3571 - val_true_negatives_6: 99.0000 - val_true_positives_6: 0.0000e+00\n",
            "Epoch 26/50\n",
            "13/13 [==============================] - 0s 4ms/step - loss: 0.3469 - true_negatives_6: 401.0000 - true_positives_6: 0.0000e+00 - val_loss: 0.3571 - val_true_negatives_6: 99.0000 - val_true_positives_6: 0.0000e+00\n",
            "Epoch 27/50\n",
            "13/13 [==============================] - 0s 4ms/step - loss: 0.3469 - true_negatives_6: 401.0000 - true_positives_6: 0.0000e+00 - val_loss: 0.3571 - val_true_negatives_6: 99.0000 - val_true_positives_6: 0.0000e+00\n",
            "Epoch 28/50\n",
            "13/13 [==============================] - 0s 5ms/step - loss: 0.3469 - true_negatives_6: 401.0000 - true_positives_6: 0.0000e+00 - val_loss: 0.3571 - val_true_negatives_6: 99.0000 - val_true_positives_6: 0.0000e+00\n",
            "Epoch 29/50\n",
            "13/13 [==============================] - 0s 3ms/step - loss: 0.3469 - true_negatives_6: 401.0000 - true_positives_6: 0.0000e+00 - val_loss: 0.3571 - val_true_negatives_6: 99.0000 - val_true_positives_6: 0.0000e+00\n",
            "Epoch 30/50\n",
            "13/13 [==============================] - 0s 5ms/step - loss: 0.3469 - true_negatives_6: 401.0000 - true_positives_6: 0.0000e+00 - val_loss: 0.3571 - val_true_negatives_6: 99.0000 - val_true_positives_6: 0.0000e+00\n",
            "Epoch 31/50\n",
            "13/13 [==============================] - 0s 4ms/step - loss: 0.3469 - true_negatives_6: 401.0000 - true_positives_6: 0.0000e+00 - val_loss: 0.3571 - val_true_negatives_6: 99.0000 - val_true_positives_6: 0.0000e+00\n",
            "Epoch 32/50\n",
            "13/13 [==============================] - 0s 3ms/step - loss: 0.3469 - true_negatives_6: 401.0000 - true_positives_6: 0.0000e+00 - val_loss: 0.3571 - val_true_negatives_6: 99.0000 - val_true_positives_6: 0.0000e+00\n",
            "Epoch 33/50\n",
            "13/13 [==============================] - 0s 5ms/step - loss: 0.3469 - true_negatives_6: 401.0000 - true_positives_6: 0.0000e+00 - val_loss: 0.3571 - val_true_negatives_6: 99.0000 - val_true_positives_6: 0.0000e+00\n",
            "Epoch 34/50\n",
            "13/13 [==============================] - 0s 4ms/step - loss: 0.3469 - true_negatives_6: 401.0000 - true_positives_6: 0.0000e+00 - val_loss: 0.3571 - val_true_negatives_6: 99.0000 - val_true_positives_6: 0.0000e+00\n",
            "Epoch 35/50\n",
            "13/13 [==============================] - 0s 6ms/step - loss: 0.3469 - true_negatives_6: 401.0000 - true_positives_6: 0.0000e+00 - val_loss: 0.3571 - val_true_negatives_6: 99.0000 - val_true_positives_6: 0.0000e+00\n",
            "Epoch 36/50\n",
            "13/13 [==============================] - 0s 4ms/step - loss: 0.3469 - true_negatives_6: 401.0000 - true_positives_6: 0.0000e+00 - val_loss: 0.3571 - val_true_negatives_6: 99.0000 - val_true_positives_6: 0.0000e+00\n",
            "Epoch 37/50\n",
            "13/13 [==============================] - 0s 5ms/step - loss: 0.3469 - true_negatives_6: 401.0000 - true_positives_6: 0.0000e+00 - val_loss: 0.3571 - val_true_negatives_6: 99.0000 - val_true_positives_6: 0.0000e+00\n",
            "Epoch 38/50\n",
            "13/13 [==============================] - 0s 5ms/step - loss: 0.3469 - true_negatives_6: 401.0000 - true_positives_6: 0.0000e+00 - val_loss: 0.3571 - val_true_negatives_6: 99.0000 - val_true_positives_6: 0.0000e+00\n",
            "Epoch 39/50\n",
            "13/13 [==============================] - 0s 4ms/step - loss: 0.3469 - true_negatives_6: 401.0000 - true_positives_6: 0.0000e+00 - val_loss: 0.3571 - val_true_negatives_6: 99.0000 - val_true_positives_6: 0.0000e+00\n",
            "Epoch 40/50\n",
            "13/13 [==============================] - 0s 4ms/step - loss: 0.3469 - true_negatives_6: 401.0000 - true_positives_6: 0.0000e+00 - val_loss: 0.3571 - val_true_negatives_6: 99.0000 - val_true_positives_6: 0.0000e+00\n",
            "Epoch 41/50\n",
            "13/13 [==============================] - 0s 6ms/step - loss: 0.3469 - true_negatives_6: 401.0000 - true_positives_6: 0.0000e+00 - val_loss: 0.3571 - val_true_negatives_6: 99.0000 - val_true_positives_6: 0.0000e+00\n",
            "Epoch 42/50\n",
            "13/13 [==============================] - 0s 3ms/step - loss: 0.3469 - true_negatives_6: 401.0000 - true_positives_6: 0.0000e+00 - val_loss: 0.3571 - val_true_negatives_6: 99.0000 - val_true_positives_6: 0.0000e+00\n",
            "Epoch 43/50\n",
            "13/13 [==============================] - 0s 5ms/step - loss: 0.3469 - true_negatives_6: 401.0000 - true_positives_6: 0.0000e+00 - val_loss: 0.3571 - val_true_negatives_6: 99.0000 - val_true_positives_6: 0.0000e+00\n",
            "Epoch 44/50\n",
            "13/13 [==============================] - 0s 5ms/step - loss: 0.3469 - true_negatives_6: 401.0000 - true_positives_6: 0.0000e+00 - val_loss: 0.3571 - val_true_negatives_6: 99.0000 - val_true_positives_6: 0.0000e+00\n",
            "Epoch 45/50\n",
            "13/13 [==============================] - 0s 5ms/step - loss: 0.3469 - true_negatives_6: 401.0000 - true_positives_6: 0.0000e+00 - val_loss: 0.3571 - val_true_negatives_6: 99.0000 - val_true_positives_6: 0.0000e+00\n",
            "Epoch 46/50\n",
            "13/13 [==============================] - 0s 5ms/step - loss: 0.3469 - true_negatives_6: 401.0000 - true_positives_6: 0.0000e+00 - val_loss: 0.3571 - val_true_negatives_6: 99.0000 - val_true_positives_6: 0.0000e+00\n",
            "Epoch 47/50\n",
            "13/13 [==============================] - 0s 5ms/step - loss: 0.3469 - true_negatives_6: 401.0000 - true_positives_6: 0.0000e+00 - val_loss: 0.3571 - val_true_negatives_6: 99.0000 - val_true_positives_6: 0.0000e+00\n",
            "Epoch 48/50\n",
            "13/13 [==============================] - 0s 4ms/step - loss: 0.3469 - true_negatives_6: 401.0000 - true_positives_6: 0.0000e+00 - val_loss: 0.3571 - val_true_negatives_6: 99.0000 - val_true_positives_6: 0.0000e+00\n",
            "Epoch 49/50\n",
            "13/13 [==============================] - 0s 4ms/step - loss: 0.3469 - true_negatives_6: 401.0000 - true_positives_6: 0.0000e+00 - val_loss: 0.3571 - val_true_negatives_6: 99.0000 - val_true_positives_6: 0.0000e+00\n",
            "Epoch 50/50\n",
            "13/13 [==============================] - 0s 5ms/step - loss: 0.3469 - true_negatives_6: 401.0000 - true_positives_6: 0.0000e+00 - val_loss: 0.3571 - val_true_negatives_6: 99.0000 - val_true_positives_6: 0.0000e+00\n",
            "Evaulating ...\n",
            "16/16 [==============================] - 0s 2ms/step - loss: 0.3490 - true_negatives_6: 500.0000 - true_positives_6: 0.0000e+00\n",
            "24/24 [==============================] - 0s 2ms/step - loss: 0.3490 - true_negatives_6: 500.0000 - true_positives_6: 0.0000e+00\n",
            "Accuracy: [0.34895893931388855, 500.0, 0.0]\n"
          ],
          "name": "stdout"
        }
      ]
    }
  ]
}