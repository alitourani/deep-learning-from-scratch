{
  "nbformat": 4,
  "nbformat_minor": 0,
  "metadata": {
    "colab": {
      "name": "Iris_Flowers_Classification.ipynb",
      "provenance": [],
      "collapsed_sections": [],
      "authorship_tag": "ABX9TyM8sUsZNBt1ZjhpMs7vRwyT",
      "include_colab_link": true
    },
    "kernelspec": {
      "name": "python3",
      "display_name": "Python 3"
    },
    "language_info": {
      "name": "python"
    }
  },
  "cells": [
    {
      "cell_type": "markdown",
      "metadata": {
        "id": "view-in-github",
        "colab_type": "text"
      },
      "source": [
        "<a href=\"https://colab.research.google.com/github/alitourani/deep-learning-from-scratch/blob/main/Codes/ML/Iris_Flowers_Classification.ipynb\" target=\"_parent\"><img src=\"https://colab.research.google.com/assets/colab-badge.svg\" alt=\"Open In Colab\"/></a>"
      ]
    },
    {
      "cell_type": "markdown",
      "metadata": {
        "id": "0AS_o364UJLW"
      },
      "source": [
        "# **Iris Flowers Classification**\n",
        "\n",
        "🎯 **Goal:** We want to classify each of three species of Iris using a simple Machine Learning application. The features useful for the classification process consists of the width and the length of the sepals and petals of the flowers.\n",
        "\n",
        "🗄️ **Dataset:** Iris Flower ([link](https://archive.ics.uci.edu/ml/datasets/iris) - 150 instances, classified into three classes)\n"
      ]
    },
    {
      "cell_type": "markdown",
      "metadata": {
        "id": "b1OSeQ6wVWIO"
      },
      "source": [
        "**1. Import Libraries**"
      ]
    },
    {
      "cell_type": "code",
      "metadata": {
        "id": "ahW4SZ2lUF6p"
      },
      "source": [
        "import numpy as np\n",
        "import pandas as pd\n",
        "from sklearn.svm import SVC\n",
        "from sklearn import datasets\n",
        "import matplotlib.pyplot as plt\n",
        "from sklearn.metrics import accuracy_score\n",
        "from sklearn.neighbors import KNeighborsClassifier\n",
        "from sklearn.ensemble import RandomForestClassifier\n",
        "from sklearn.linear_model import LogisticRegression\n",
        "from sklearn.model_selection import train_test_split"
      ],
      "execution_count": 52,
      "outputs": []
    },
    {
      "cell_type": "markdown",
      "metadata": {
        "id": "3YL1H_osWexG"
      },
      "source": [
        "**2. Import the Dataset**"
      ]
    },
    {
      "cell_type": "code",
      "metadata": {
        "colab": {
          "base_uri": "https://localhost:8080/"
        },
        "id": "mxaCFhBbWgV2",
        "outputId": "329905f7-6fbe-486d-d48d-90350b4ce3ce"
      },
      "source": [
        "# Simply, loading the dataset from SKLearn\n",
        "dataset = datasets.load_iris()\n",
        "\n",
        "# Summary\n",
        "print('Dataset loaded!')\n",
        "print('Features covered by the dataset:', dataset.feature_names)\n",
        "print('Available categories:', dataset.target_names)\n",
        "\n",
        "# Let's see the data instances\n",
        "data = dataset.data\n",
        "data = pd.DataFrame(data, columns=dataset.feature_names)\n",
        "\n",
        "# Adding category data (0, 1, or 2) to a new column, named 'class'\n",
        "data['classNumber'] = dataset.target\n",
        "\n",
        "print('\\nThe Iris Dataset instances:\\n', data)"
      ],
      "execution_count": 53,
      "outputs": [
        {
          "output_type": "stream",
          "name": "stdout",
          "text": [
            "Dataset loaded!\n",
            "Features covered by the dataset: ['sepal length (cm)', 'sepal width (cm)', 'petal length (cm)', 'petal width (cm)']\n",
            "Available categories: ['setosa' 'versicolor' 'virginica']\n",
            "\n",
            "The Iris Dataset instances:\n",
            "      sepal length (cm)  sepal width (cm)  ...  petal width (cm)  classNumber\n",
            "0                  5.1               3.5  ...               0.2            0\n",
            "1                  4.9               3.0  ...               0.2            0\n",
            "2                  4.7               3.2  ...               0.2            0\n",
            "3                  4.6               3.1  ...               0.2            0\n",
            "4                  5.0               3.6  ...               0.2            0\n",
            "..                 ...               ...  ...               ...          ...\n",
            "145                6.7               3.0  ...               2.3            2\n",
            "146                6.3               2.5  ...               1.9            2\n",
            "147                6.5               3.0  ...               2.0            2\n",
            "148                6.2               3.4  ...               2.3            2\n",
            "149                5.9               3.0  ...               1.8            2\n",
            "\n",
            "[150 rows x 5 columns]\n"
          ]
        }
      ]
    },
    {
      "cell_type": "markdown",
      "metadata": {
        "id": "h3JDgbb4bIBs"
      },
      "source": [
        "2.1. Check the statistics of the data"
      ]
    },
    {
      "cell_type": "code",
      "metadata": {
        "colab": {
          "base_uri": "https://localhost:8080/",
          "height": 300
        },
        "id": "fQXKDdqMbQXO",
        "outputId": "ddf20cce-f2bb-4b7c-a88c-8fa8c1b0aa8f"
      },
      "source": [
        "data.describe()"
      ],
      "execution_count": 54,
      "outputs": [
        {
          "output_type": "execute_result",
          "data": {
            "text/html": [
              "<div>\n",
              "<style scoped>\n",
              "    .dataframe tbody tr th:only-of-type {\n",
              "        vertical-align: middle;\n",
              "    }\n",
              "\n",
              "    .dataframe tbody tr th {\n",
              "        vertical-align: top;\n",
              "    }\n",
              "\n",
              "    .dataframe thead th {\n",
              "        text-align: right;\n",
              "    }\n",
              "</style>\n",
              "<table border=\"1\" class=\"dataframe\">\n",
              "  <thead>\n",
              "    <tr style=\"text-align: right;\">\n",
              "      <th></th>\n",
              "      <th>sepal length (cm)</th>\n",
              "      <th>sepal width (cm)</th>\n",
              "      <th>petal length (cm)</th>\n",
              "      <th>petal width (cm)</th>\n",
              "      <th>classNumber</th>\n",
              "    </tr>\n",
              "  </thead>\n",
              "  <tbody>\n",
              "    <tr>\n",
              "      <th>count</th>\n",
              "      <td>150.000000</td>\n",
              "      <td>150.000000</td>\n",
              "      <td>150.000000</td>\n",
              "      <td>150.000000</td>\n",
              "      <td>150.000000</td>\n",
              "    </tr>\n",
              "    <tr>\n",
              "      <th>mean</th>\n",
              "      <td>5.843333</td>\n",
              "      <td>3.057333</td>\n",
              "      <td>3.758000</td>\n",
              "      <td>1.199333</td>\n",
              "      <td>1.000000</td>\n",
              "    </tr>\n",
              "    <tr>\n",
              "      <th>std</th>\n",
              "      <td>0.828066</td>\n",
              "      <td>0.435866</td>\n",
              "      <td>1.765298</td>\n",
              "      <td>0.762238</td>\n",
              "      <td>0.819232</td>\n",
              "    </tr>\n",
              "    <tr>\n",
              "      <th>min</th>\n",
              "      <td>4.300000</td>\n",
              "      <td>2.000000</td>\n",
              "      <td>1.000000</td>\n",
              "      <td>0.100000</td>\n",
              "      <td>0.000000</td>\n",
              "    </tr>\n",
              "    <tr>\n",
              "      <th>25%</th>\n",
              "      <td>5.100000</td>\n",
              "      <td>2.800000</td>\n",
              "      <td>1.600000</td>\n",
              "      <td>0.300000</td>\n",
              "      <td>0.000000</td>\n",
              "    </tr>\n",
              "    <tr>\n",
              "      <th>50%</th>\n",
              "      <td>5.800000</td>\n",
              "      <td>3.000000</td>\n",
              "      <td>4.350000</td>\n",
              "      <td>1.300000</td>\n",
              "      <td>1.000000</td>\n",
              "    </tr>\n",
              "    <tr>\n",
              "      <th>75%</th>\n",
              "      <td>6.400000</td>\n",
              "      <td>3.300000</td>\n",
              "      <td>5.100000</td>\n",
              "      <td>1.800000</td>\n",
              "      <td>2.000000</td>\n",
              "    </tr>\n",
              "    <tr>\n",
              "      <th>max</th>\n",
              "      <td>7.900000</td>\n",
              "      <td>4.400000</td>\n",
              "      <td>6.900000</td>\n",
              "      <td>2.500000</td>\n",
              "      <td>2.000000</td>\n",
              "    </tr>\n",
              "  </tbody>\n",
              "</table>\n",
              "</div>"
            ],
            "text/plain": [
              "       sepal length (cm)  sepal width (cm)  ...  petal width (cm)  classNumber\n",
              "count         150.000000        150.000000  ...        150.000000   150.000000\n",
              "mean            5.843333          3.057333  ...          1.199333     1.000000\n",
              "std             0.828066          0.435866  ...          0.762238     0.819232\n",
              "min             4.300000          2.000000  ...          0.100000     0.000000\n",
              "25%             5.100000          2.800000  ...          0.300000     0.000000\n",
              "50%             5.800000          3.000000  ...          1.300000     1.000000\n",
              "75%             6.400000          3.300000  ...          1.800000     2.000000\n",
              "max             7.900000          4.400000  ...          2.500000     2.000000\n",
              "\n",
              "[8 rows x 5 columns]"
            ]
          },
          "metadata": {},
          "execution_count": 54
        }
      ]
    },
    {
      "cell_type": "markdown",
      "metadata": {
        "id": "TcdTY0vgb8Iu"
      },
      "source": [
        "2.2. A visualization of data"
      ]
    },
    {
      "cell_type": "code",
      "metadata": {
        "colab": {
          "base_uri": "https://localhost:8080/",
          "height": 1000
        },
        "id": "bOKhGoYIcB7A",
        "outputId": "1b8c24e7-fa2e-4a78-9d28-ebdb6813ab52"
      },
      "source": [
        "for feature in dataset.feature_names:\n",
        "  plt.figure()\n",
        "  plt.title(feature, loc='center', pad=5)\n",
        "  data[feature].hist()"
      ],
      "execution_count": 55,
      "outputs": [
        {
          "output_type": "display_data",
          "data": {
            "image/png": "[encoded data removed]",
            "text/plain": [
              "<Figure size 432x288 with 1 Axes>"
            ]
          },
          "metadata": {
            "needs_background": "light"
          }
        },
        {
          "output_type": "display_data",
          "data": {
            "image/png": "[encoded data removed]",
            "text/plain": [
              "<Figure size 432x288 with 1 Axes>"
            ]
          },
          "metadata": {
            "needs_background": "light"
          }
        },
        {
          "output_type": "display_data",
          "data": {
            "image/png": "[encoded data removed]",
            "text/plain": [
              "<Figure size 432x288 with 1 Axes>"
            ]
          },
          "metadata": {
            "needs_background": "light"
          }
        },
        {
          "output_type": "display_data",
          "data": {
            "image/png": "[encoded data removed]",
            "text/plain": [
              "<Figure size 432x288 with 1 Axes>"
            ]
          },
          "metadata": {
            "needs_background": "light"
          }
        }
      ]
    },
    {
      "cell_type": "markdown",
      "metadata": {
        "id": "BEe5CXmJd8OH"
      },
      "source": [
        "**3. Working with Data**"
      ]
    },
    {
      "cell_type": "markdown",
      "metadata": {
        "id": "aRLst_jId8-2"
      },
      "source": [
        "3.1. Splitting training set and test set"
      ]
    },
    {
      "cell_type": "code",
      "metadata": {
        "colab": {
          "base_uri": "https://localhost:8080/"
        },
        "id": "dzqRnw0_d_JO",
        "outputId": "98b9471c-fc5b-413c-a88f-7aebb0b58c7c"
      },
      "source": [
        "# Projection of the DataFrame\n",
        "features = data.values[:, 0:4] # Petal width, petal length, etc.\n",
        "classes = data.values[:, 4] # classNumber column\n",
        "\n",
        "# Split parameters\n",
        "testSize = 0.3 # 30% of data is reserved for test\n",
        "\n",
        "# Splitting data\n",
        "features_train, features_test, classes_train, classes_test = train_test_split(features, classes, test_size=testSize)\n",
        "\n",
        "print(f'Splitting completed with split-ratio {1-testSize}:{testSize}!')\n",
        "print(f'#Train: {len(features_train)} \\t #Test: {len(features_test)}.')"
      ],
      "execution_count": 62,
      "outputs": [
        {
          "output_type": "stream",
          "name": "stdout",
          "text": [
            "Splitting completed with split-ratio 0.7:0.3!\n",
            "#Train: 105 \t #Test: 45.\n"
          ]
        }
      ]
    },
    {
      "cell_type": "markdown",
      "metadata": {
        "id": "rPU9mCK5hG8e"
      },
      "source": [
        "3.2. Training and testing by the means of different models"
      ]
    },
    {
      "cell_type": "code",
      "metadata": {
        "colab": {
          "base_uri": "https://localhost:8080/"
        },
        "id": "3yB2y3sLhHo-",
        "outputId": "0486c328-62cd-430f-e59d-fe27e7e02322"
      },
      "source": [
        "# Definition of Models\n",
        "models = [\n",
        "  {'name': 'SVC', 'function': SVC()},\n",
        "  {'name': 'LGR', 'function': LogisticRegression()},\n",
        "  {'name': 'KNN', 'function': KNeighborsClassifier()},\n",
        "  {'name': 'RF', 'function': RandomForestClassifier()}\n",
        "]\n",
        "\n",
        "# Iterate over the defined models\n",
        "for model in models:\n",
        "  modelName = model['name']\n",
        "  selectedModel = model['function']\n",
        "  # Fitting the model with training data\n",
        "  selectedModel.fit(features_train, classes_train)\n",
        "  # Predicting\n",
        "  predictions = selectedModel.predict(features_test)\n",
        "  # Calculating the accuracy\n",
        "  finalAccuracy = round(accuracy_score(classes_test, predictions), 2)\n",
        "  print(f'Using {modelName} the accuracy is {finalAccuracy}')"
      ],
      "execution_count": 63,
      "outputs": [
        {
          "output_type": "stream",
          "name": "stdout",
          "text": [
            "Using SVC the accuracy is 0.98\n",
            "Using LGR the accuracy is 1.0\n",
            "Using KNN the accuracy is 0.96\n",
            "Using RF the accuracy is 0.98\n"
          ]
        }
      ]
    }
  ]
}