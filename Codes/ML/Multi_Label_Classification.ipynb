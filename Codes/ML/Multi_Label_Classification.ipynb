{
  "nbformat": 4,
  "nbformat_minor": 0,
  "metadata": {
    "colab": {
      "name": "Multi_Label_Classification.ipynb",
      "provenance": [],
      "collapsed_sections": [],
      "authorship_tag": "ABX9TyMg/sTtk+UNN9ActJuxPJSA",
      "include_colab_link": true
    },
    "kernelspec": {
      "name": "python3",
      "display_name": "Python 3"
    },
    "language_info": {
      "name": "python"
    }
  },
  "cells": [
    {
      "cell_type": "markdown",
      "metadata": {
        "id": "view-in-github",
        "colab_type": "text"
      },
      "source": [
        "<a href=\"https://colab.research.google.com/github/alitourani/deep-learning-from-scratch/blob/main/Codes/ML/Multi_Label_Classification.ipynb\" target=\"_parent\"><img src=\"https://colab.research.google.com/assets/colab-badge.svg\" alt=\"Open In Colab\"/></a>"
      ]
    },
    {
      "cell_type": "markdown",
      "source": [
        "# **Multiple-Label Classification with ANNs**\n",
        "\n",
        "🎯 **Goal:** We want to classify data into zero or more class labels. It involves predicting the likelihood across two or more class labels. An assumption is that the input does not belong to one class only (labels are not mutually exclusive).\n",
        "\n",
        "🗄️ **Dataset:** Generated.\n"
      ],
      "metadata": {
        "id": "DW7gkCW1V9z0"
      }
    },
    {
      "cell_type": "markdown",
      "source": [
        "**1. Import Libraries**"
      ],
      "metadata": {
        "id": "0epID8RJXHyi"
      }
    },
    {
      "cell_type": "code",
      "source": [
        "import numpy as np\n",
        "from keras.layers import Dense\n",
        "from keras.models import Sequential\n",
        "from numpy import mean, std, asarray\n",
        "from sklearn.metrics import accuracy_score\n",
        "from sklearn.model_selection import RepeatedKFold\n",
        "from sklearn.datasets import make_multilabel_classification"
      ],
      "metadata": {
        "id": "vFA4poNxXQ0X"
      },
      "execution_count": 22,
      "outputs": []
    },
    {
      "cell_type": "markdown",
      "source": [
        "**2. Creating the Dataset**"
      ],
      "metadata": {
        "id": "mvAl-_eiXLsa"
      }
    },
    {
      "cell_type": "code",
      "source": [
        "# Variables\n",
        "numberOfSamples = 500\n",
        "numberOfFeatures = 10 # input features\n",
        "numberOfClasses = 3 # output features, i.e., class label outputs for each sample\n",
        "numberOfLabels = 2 # values for each class\n",
        "randomState = 1\n",
        "\n",
        "# Defining the dataset\n",
        "features, labels = make_multilabel_classification(n_samples = numberOfSamples,\n",
        "                                      n_features = numberOfFeatures,\n",
        "                                      n_classes = numberOfClasses,\n",
        "                                      n_labels = numberOfLabels,\n",
        "                                      random_state = randomState)\n",
        "\n",
        "# Summarize the dataset shape\n",
        "print(f'Shape of the features is {features.shape}, while the shape of the labes is {labels.shape}.\\n')\n",
        "\n",
        "# Showing some of the results\n",
        "for item in range(5):\n",
        "  print(f'Item#{item}: Features={features[item]}, Labels={labels[item]}')"
      ],
      "metadata": {
        "colab": {
          "base_uri": "https://localhost:8080/"
        },
        "id": "5ofbCC7VXZc9",
        "outputId": "ad3cc830-e982-409d-9656-82d1adf35bed"
      },
      "execution_count": 23,
      "outputs": [
        {
          "output_type": "stream",
          "name": "stdout",
          "text": [
            "Shape of the features is (500, 10), while the shape of the labes is (500, 3).\n",
            "\n",
            "Item#0: Features=[ 3.  3.  6.  7.  8.  2. 11. 11.  1.  3.], Labels=[1 1 0]\n",
            "Item#1: Features=[7. 6. 4. 4. 6. 8. 3. 4. 6. 4.], Labels=[0 0 0]\n",
            "Item#2: Features=[ 5.  5. 13.  7.  6.  3.  6. 11.  4.  2.], Labels=[1 1 0]\n",
            "Item#3: Features=[1. 1. 5. 5. 7. 3. 4. 6. 4. 4.], Labels=[1 1 1]\n",
            "Item#4: Features=[ 4.  2.  3. 13.  7.  2.  4. 12.  1.  7.], Labels=[0 1 0]\n"
          ]
        }
      ]
    },
    {
      "cell_type": "markdown",
      "source": [
        "**3. Creating the Neural Network**"
      ],
      "metadata": {
        "id": "FvPzKJMze394"
      }
    },
    {
      "cell_type": "code",
      "source": [
        "# Defining the model: Multilayer Perceptron (MLP)\n",
        "model = Sequential()\n",
        "\n",
        "# Number of nodes in the output layer = the number of labels\n",
        "# Note: The hidden layer has 20 nodes that were chosen by trial and error\n",
        "model.add(Dense(20, input_dim = numberOfFeatures, kernel_initializer='he_uniform', activation='relu'))\n",
        "# Output layer to estimate the membership probability\n",
        "# Note: Sigmoid activation (0.00 to 1.00) is used for each node in the output layer \n",
        "model.add(Dense(numberOfClasses, activation='sigmoid'))\n",
        "# Binary cross-entropy loss function + Adam version of GDA\n",
        "model.compile(loss='binary_crossentropy', optimizer='adam')\n",
        "\n",
        "model.summary()"
      ],
      "metadata": {
        "id": "2mwgDfcse8EI",
        "colab": {
          "base_uri": "https://localhost:8080/"
        },
        "outputId": "4dd50e5c-fbb4-4d9d-e584-5eff0959be32"
      },
      "execution_count": 24,
      "outputs": [
        {
          "output_type": "stream",
          "name": "stdout",
          "text": [
            "Model: \"sequential_1\"\n",
            "_________________________________________________________________\n",
            " Layer (type)                Output Shape              Param #   \n",
            "=================================================================\n",
            " dense_2 (Dense)             (None, 20)                220       \n",
            "                                                                 \n",
            " dense_3 (Dense)             (None, 3)                 63        \n",
            "                                                                 \n",
            "=================================================================\n",
            "Total params: 283\n",
            "Trainable params: 283\n",
            "Non-trainable params: 0\n",
            "_________________________________________________________________\n"
          ]
        }
      ]
    },
    {
      "cell_type": "code",
      "source": [
        "results = list()\n",
        "numberOfFolds = 10 # Folds in Cross Validation\n",
        "repeats = 3 # Repeats in Cross Validation\n",
        "verbose = 0 # Verbose in fitting the model\n",
        "epochs = 50 # Number of epochs\n",
        "\n",
        "inputsCount, outputsCount = features.shape[1], labels.shape[1]\n",
        "print(f'The # of inputs and outputs are {inputsCount} and {outputsCount}, respectively.')\n",
        "\n",
        "# Evaluation procedure\n",
        "# Using repeated k-fold cross-validation instead of train/test split\n",
        "# Note: It gets an unbiased estimate of model performance\n",
        "crossValidation = RepeatedKFold(n_splits = numberOfFolds, n_repeats = repeats, \n",
        "                   random_state = randomState)\n",
        "\n",
        "# Iterate over folds\n",
        "index = 0\n",
        "for trainItem, testItem in crossValidation.split(features):\n",
        "  # Data Preparation\n",
        "  featTrain, featTest = features[trainItem], features[testItem]\n",
        "  classTrain, classTest = labels[trainItem], labels[testItem]\n",
        "  # Fitting the model\n",
        "  model.fit(featTrain, classTrain, verbose = verbose, epochs = epochs)\n",
        "  # Making a prediction on the test set\n",
        "  # Note: It predicts three probabilities for each sample\n",
        "  predictedClass = model.predict(featTest).round(3)\n",
        "  # Calculating the accuracy\n",
        "  accuracy = accuracy_score(classTest, predictedClass.round())\n",
        "  index += 1\n",
        "  print(f'[{index}] Predicted: {predictedClass[0]}, Accuracy: {accuracy}')\n",
        "  results.append(accuracy)\n",
        "\n",
        "# Final Accuracy\n",
        "print(f'Mean Accuracy: {round(mean(results), 3)}, Standard Deviation: {round(std(results), 3)}')"
      ],
      "metadata": {
        "colab": {
          "base_uri": "https://localhost:8080/"
        },
        "id": "PvHgMezl_8ow",
        "outputId": "be111cc1-c9d9-487f-ee3d-d0f4413568d5"
      },
      "execution_count": 25,
      "outputs": [
        {
          "output_type": "stream",
          "name": "stdout",
          "text": [
            "The # of inputs and outputs are 10 and 3, respectively.\n",
            "[1] Predicted: [0.043 0.997 0.008], Accuracy: 0.56\n",
            "[2] Predicted: [0.297 0.746 0.472], Accuracy: 0.8\n",
            "[3] Predicted: [0.532 0.017 0.78 ], Accuracy: 0.74\n",
            "[4] Predicted: [0.001 0.088 0.   ], Accuracy: 0.78\n",
            "[5] Predicted: [0.998 0.954 0.004], Accuracy: 0.8\n",
            "[6] Predicted: [0.982 0.995 0.874], Accuracy: 0.86\n",
            "[7] Predicted: [0.003 0.894 0.   ], Accuracy: 0.9\n",
            "[8] Predicted: [0.968 0.983 0.371], Accuracy: 0.88\n",
            "[9] Predicted: [0.93  0.999 0.969], Accuracy: 0.88\n",
            "[10] Predicted: [0.005 0.    0.   ], Accuracy: 0.82\n",
            "[11] Predicted: [0.059 1.    0.   ], Accuracy: 0.84\n",
            "[12] Predicted: [0.96  1.    0.986], Accuracy: 0.88\n",
            "[13] Predicted: [0.949 0.973 0.118], Accuracy: 0.86\n",
            "[14] Predicted: [1.    0.069 0.   ], Accuracy: 0.84\n",
            "[15] Predicted: [0.    0.095 0.   ], Accuracy: 0.86\n",
            "[16] Predicted: [0.059 1.    0.   ], Accuracy: 0.9\n",
            "[17] Predicted: [1.    0.992 0.003], Accuracy: 0.9\n",
            "[18] Predicted: [0.822 1.    0.   ], Accuracy: 0.88\n",
            "[19] Predicted: [0.028 0.    0.069], Accuracy: 0.86\n",
            "[20] Predicted: [0.022 0.177 0.058], Accuracy: 0.88\n",
            "[21] Predicted: [0.039 1.    0.   ], Accuracy: 0.8\n",
            "[22] Predicted: [1.    0.997 0.001], Accuracy: 0.92\n",
            "[23] Predicted: [0.019 0.386 0.061], Accuracy: 0.86\n",
            "[24] Predicted: [0. 0. 0.], Accuracy: 0.9\n",
            "[25] Predicted: [0.    0.186 0.   ], Accuracy: 0.86\n",
            "[26] Predicted: [1.    0.018 0.   ], Accuracy: 0.86\n",
            "[27] Predicted: [0.966 0.996 0.073], Accuracy: 0.92\n",
            "[28] Predicted: [1.    1.    0.993], Accuracy: 0.92\n",
            "[29] Predicted: [0. 1. 0.], Accuracy: 0.88\n",
            "[30] Predicted: [0.872 0.774 0.644], Accuracy: 0.9\n",
            "Mean Accuracy: 0.851, Standard Deviation: 0.069\n"
          ]
        }
      ]
    },
    {
      "cell_type": "markdown",
      "source": [
        "**4. Predicting a New Value**"
      ],
      "metadata": {
        "id": "9ikX6omWimuD"
      }
    },
    {
      "cell_type": "code",
      "source": [
        "# Make a prediction for new data\n",
        "newSample = asarray([[7, 4, 6, 6, 4, 8, 3, 5, 11, 3]])\n",
        "\n",
        "newPrediction = model.predict(newSample)\n",
        "print(f'Prediction Result: {newPrediction[0].round(5)}')"
      ],
      "metadata": {
        "colab": {
          "base_uri": "https://localhost:8080/"
        },
        "id": "nizwk2DPioot",
        "outputId": "d524f513-49a5-41bd-8166-439972014a8f"
      },
      "execution_count": 31,
      "outputs": [
        {
          "output_type": "stream",
          "name": "stdout",
          "text": [
            "Prediction Result: [4.e-05 0.e+00 0.e+00]\n"
          ]
        }
      ]
    }
  ]
}