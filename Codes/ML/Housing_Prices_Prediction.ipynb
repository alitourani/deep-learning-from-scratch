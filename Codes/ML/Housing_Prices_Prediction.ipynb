{
  "nbformat": 4,
  "nbformat_minor": 0,
  "metadata": {
    "colab": {
      "name": "Housing_Prices_Prediction.ipynb",
      "provenance": [],
      "collapsed_sections": [],
      "authorship_tag": "ABX9TyO+fbVZpW3L69HUrSszWC+6",
      "include_colab_link": true
    },
    "kernelspec": {
      "name": "python3",
      "display_name": "Python 3"
    },
    "language_info": {
      "name": "python"
    }
  },
  "cells": [
    {
      "cell_type": "markdown",
      "metadata": {
        "id": "view-in-github",
        "colab_type": "text"
      },
      "source": [
        "<a href=\"https://colab.research.google.com/github/alitourani/deep-learning-from-scratch/blob/main/Codes/ML/Housing_Prices_Prediction.ipynb\" target=\"_parent\"><img src=\"https://colab.research.google.com/assets/colab-badge.svg\" alt=\"Open In Colab\"/></a>"
      ]
    },
    {
      "cell_type": "markdown",
      "metadata": {
        "id": "ni8n_yvZ0dbQ"
      },
      "source": [
        "# **Housing Prices Prediction using Machine Learning**\n",
        "\n",
        "🎯 **Goal:** We want to build a model to predict the price of houses in California.\n",
        "\n",
        "🗄️ **Dataset:** California Housing Prices ([link](https://www.kaggle.com/camnugent/california-housing-prices) - \t\n",
        "20,640 instances, classified into eight dimensions - More info [here](https://developers.google.com/machine-learning/crash-course/california-housing-data-description))\n",
        "\n",
        "💡 **Inspiration:** Shreyas3108's [repo](https://github.com/Shreyas3108/house-price-prediction)\n"
      ]
    },
    {
      "cell_type": "markdown",
      "metadata": {
        "id": "I_FSq5LO1BTX"
      },
      "source": [
        "**1. Import Libraries**"
      ]
    },
    {
      "cell_type": "code",
      "metadata": {
        "id": "HQBO9Ju-0SVl"
      },
      "source": [
        "import numpy as np\n",
        "import pandas as pd\n",
        "from sklearn import datasets\n",
        "import matplotlib.pyplot as plt\n",
        "from sklearn.metrics import mean_squared_error\n",
        "from sklearn.linear_model import LinearRegression\n",
        "from sklearn.model_selection import train_test_split"
      ],
      "execution_count": 38,
      "outputs": []
    },
    {
      "cell_type": "markdown",
      "metadata": {
        "id": "XQ9do4-d1Ek2"
      },
      "source": [
        "**2. Import the Dataset**"
      ]
    },
    {
      "cell_type": "code",
      "metadata": {
        "colab": {
          "base_uri": "https://localhost:8080/",
          "height": 315
        },
        "id": "6SYwUody1GWA",
        "outputId": "201ab3fa-1f40-47db-f61a-88a9c3994add"
      },
      "source": [
        "# Simply, loading the dataset from SKLearn\n",
        "dataset = datasets.fetch_california_housing()\n",
        "\n",
        "# Summary\n",
        "print('Dataset loaded!')\n",
        "print('Features covered by the dataset:', dataset.feature_names)\n",
        "print('Available categories:', dataset.target_names)\n",
        "\n",
        "# Let's see the data instances\n",
        "data = dataset.data\n",
        "data = pd.DataFrame(data, columns=dataset.feature_names)\n",
        "\n",
        "# Adding category data (0, 1, or 2) to a new column, named 'class'\n",
        "data['classNumber'] = dataset.target\n",
        "\n",
        "print('\\nThe California Pricing Dataset sample instances:\\n')\n",
        "data.head()"
      ],
      "execution_count": 42,
      "outputs": [
        {
          "output_type": "stream",
          "name": "stdout",
          "text": [
            "Dataset loaded!\n",
            "Features covered by the dataset: ['MedInc', 'HouseAge', 'AveRooms', 'AveBedrms', 'Population', 'AveOccup', 'Latitude', 'Longitude']\n",
            "Available categories: ['MedHouseVal']\n",
            "\n",
            "The California Pricing Dataset sample instances:\n",
            "\n"
          ]
        },
        {
          "output_type": "execute_result",
          "data": {
            "text/html": [
              "\n",
              "  <div id=\"df-157666d0-72ad-4360-91ab-f66c837c2998\">\n",
              "    <div class=\"colab-df-container\">\n",
              "      <div>\n",
              "<style scoped>\n",
              "    .dataframe tbody tr th:only-of-type {\n",
              "        vertical-align: middle;\n",
              "    }\n",
              "\n",
              "    .dataframe tbody tr th {\n",
              "        vertical-align: top;\n",
              "    }\n",
              "\n",
              "    .dataframe thead th {\n",
              "        text-align: right;\n",
              "    }\n",
              "</style>\n",
              "<table border=\"1\" class=\"dataframe\">\n",
              "  <thead>\n",
              "    <tr style=\"text-align: right;\">\n",
              "      <th></th>\n",
              "      <th>MedInc</th>\n",
              "      <th>HouseAge</th>\n",
              "      <th>AveRooms</th>\n",
              "      <th>AveBedrms</th>\n",
              "      <th>Population</th>\n",
              "      <th>AveOccup</th>\n",
              "      <th>Latitude</th>\n",
              "      <th>Longitude</th>\n",
              "      <th>classNumber</th>\n",
              "    </tr>\n",
              "  </thead>\n",
              "  <tbody>\n",
              "    <tr>\n",
              "      <th>0</th>\n",
              "      <td>8.3252</td>\n",
              "      <td>41.0</td>\n",
              "      <td>6.984127</td>\n",
              "      <td>1.023810</td>\n",
              "      <td>322.0</td>\n",
              "      <td>2.555556</td>\n",
              "      <td>37.88</td>\n",
              "      <td>-122.23</td>\n",
              "      <td>4.526</td>\n",
              "    </tr>\n",
              "    <tr>\n",
              "      <th>1</th>\n",
              "      <td>8.3014</td>\n",
              "      <td>21.0</td>\n",
              "      <td>6.238137</td>\n",
              "      <td>0.971880</td>\n",
              "      <td>2401.0</td>\n",
              "      <td>2.109842</td>\n",
              "      <td>37.86</td>\n",
              "      <td>-122.22</td>\n",
              "      <td>3.585</td>\n",
              "    </tr>\n",
              "    <tr>\n",
              "      <th>2</th>\n",
              "      <td>7.2574</td>\n",
              "      <td>52.0</td>\n",
              "      <td>8.288136</td>\n",
              "      <td>1.073446</td>\n",
              "      <td>496.0</td>\n",
              "      <td>2.802260</td>\n",
              "      <td>37.85</td>\n",
              "      <td>-122.24</td>\n",
              "      <td>3.521</td>\n",
              "    </tr>\n",
              "    <tr>\n",
              "      <th>3</th>\n",
              "      <td>5.6431</td>\n",
              "      <td>52.0</td>\n",
              "      <td>5.817352</td>\n",
              "      <td>1.073059</td>\n",
              "      <td>558.0</td>\n",
              "      <td>2.547945</td>\n",
              "      <td>37.85</td>\n",
              "      <td>-122.25</td>\n",
              "      <td>3.413</td>\n",
              "    </tr>\n",
              "    <tr>\n",
              "      <th>4</th>\n",
              "      <td>3.8462</td>\n",
              "      <td>52.0</td>\n",
              "      <td>6.281853</td>\n",
              "      <td>1.081081</td>\n",
              "      <td>565.0</td>\n",
              "      <td>2.181467</td>\n",
              "      <td>37.85</td>\n",
              "      <td>-122.25</td>\n",
              "      <td>3.422</td>\n",
              "    </tr>\n",
              "  </tbody>\n",
              "</table>\n",
              "</div>\n",
              "      <button class=\"colab-df-convert\" onclick=\"convertToInteractive('df-157666d0-72ad-4360-91ab-f66c837c2998')\"\n",
              "              title=\"Convert this dataframe to an interactive table.\"\n",
              "              style=\"display:none;\">\n",
              "        \n",
              "  <svg xmlns=\"http://www.w3.org/2000/svg\" height=\"24px\"viewBox=\"0 0 24 24\"\n",
              "       width=\"24px\">\n",
              "    <path d=\"M0 0h24v24H0V0z\" fill=\"none\"/>\n",
              "    <path d=\"M18.56 5.44l.94 2.06.94-2.06 2.06-.94-2.06-.94-.94-2.06-.94 2.06-2.06.94zm-11 1L8.5 8.5l.94-2.06 2.06-.94-2.06-.94L8.5 2.5l-.94 2.06-2.06.94zm10 10l.94 2.06.94-2.06 2.06-.94-2.06-.94-.94-2.06-.94 2.06-2.06.94z\"/><path d=\"M17.41 7.96l-1.37-1.37c-.4-.4-.92-.59-1.43-.59-.52 0-1.04.2-1.43.59L10.3 9.45l-7.72 7.72c-.78.78-.78 2.05 0 2.83L4 21.41c.39.39.9.59 1.41.59.51 0 1.02-.2 1.41-.59l7.78-7.78 2.81-2.81c.8-.78.8-2.07 0-2.86zM5.41 20L4 18.59l7.72-7.72 1.47 1.35L5.41 20z\"/>\n",
              "  </svg>\n",
              "      </button>\n",
              "      \n",
              "  <style>\n",
              "    .colab-df-container {\n",
              "      display:flex;\n",
              "      flex-wrap:wrap;\n",
              "      gap: 12px;\n",
              "    }\n",
              "\n",
              "    .colab-df-convert {\n",
              "      background-color: #E8F0FE;\n",
              "      border: none;\n",
              "      border-radius: 50%;\n",
              "      cursor: pointer;\n",
              "      display: none;\n",
              "      fill: #1967D2;\n",
              "      height: 32px;\n",
              "      padding: 0 0 0 0;\n",
              "      width: 32px;\n",
              "    }\n",
              "\n",
              "    .colab-df-convert:hover {\n",
              "      background-color: #E2EBFA;\n",
              "      box-shadow: 0px 1px 2px rgba(60, 64, 67, 0.3), 0px 1px 3px 1px rgba(60, 64, 67, 0.15);\n",
              "      fill: #174EA6;\n",
              "    }\n",
              "\n",
              "    [theme=dark] .colab-df-convert {\n",
              "      background-color: #3B4455;\n",
              "      fill: #D2E3FC;\n",
              "    }\n",
              "\n",
              "    [theme=dark] .colab-df-convert:hover {\n",
              "      background-color: #434B5C;\n",
              "      box-shadow: 0px 1px 3px 1px rgba(0, 0, 0, 0.15);\n",
              "      filter: drop-shadow(0px 1px 2px rgba(0, 0, 0, 0.3));\n",
              "      fill: #FFFFFF;\n",
              "    }\n",
              "  </style>\n",
              "\n",
              "      <script>\n",
              "        const buttonEl =\n",
              "          document.querySelector('#df-157666d0-72ad-4360-91ab-f66c837c2998 button.colab-df-convert');\n",
              "        buttonEl.style.display =\n",
              "          google.colab.kernel.accessAllowed ? 'block' : 'none';\n",
              "\n",
              "        async function convertToInteractive(key) {\n",
              "          const element = document.querySelector('#df-157666d0-72ad-4360-91ab-f66c837c2998');\n",
              "          const dataTable =\n",
              "            await google.colab.kernel.invokeFunction('convertToInteractive',\n",
              "                                                     [key], {});\n",
              "          if (!dataTable) return;\n",
              "\n",
              "          const docLinkHtml = 'Like what you see? Visit the ' +\n",
              "            '<a target=\"_blank\" href=https://colab.research.google.com/notebooks/data_table.ipynb>data table notebook</a>'\n",
              "            + ' to learn more about interactive tables.';\n",
              "          element.innerHTML = '';\n",
              "          dataTable['output_type'] = 'display_data';\n",
              "          await google.colab.output.renderOutput(dataTable, element);\n",
              "          const docLink = document.createElement('div');\n",
              "          docLink.innerHTML = docLinkHtml;\n",
              "          element.appendChild(docLink);\n",
              "        }\n",
              "      </script>\n",
              "    </div>\n",
              "  </div>\n",
              "  "
            ],
            "text/plain": [
              "   MedInc  HouseAge  AveRooms  ...  Latitude  Longitude  classNumber\n",
              "0  8.3252      41.0  6.984127  ...     37.88    -122.23        4.526\n",
              "1  8.3014      21.0  6.238137  ...     37.86    -122.22        3.585\n",
              "2  7.2574      52.0  8.288136  ...     37.85    -122.24        3.521\n",
              "3  5.6431      52.0  5.817352  ...     37.85    -122.25        3.413\n",
              "4  3.8462      52.0  6.281853  ...     37.85    -122.25        3.422\n",
              "\n",
              "[5 rows x 9 columns]"
            ]
          },
          "metadata": {},
          "execution_count": 42
        }
      ]
    },
    {
      "cell_type": "markdown",
      "metadata": {
        "id": "CORPRzSc63Ko"
      },
      "source": [
        "2.1. Check the statistics of the data"
      ]
    },
    {
      "cell_type": "code",
      "metadata": {
        "colab": {
          "base_uri": "https://localhost:8080/",
          "height": 300
        },
        "id": "aXbqed5V63v3",
        "outputId": "906e8e75-fd7a-4e5e-c603-eb2e71fe20ae"
      },
      "source": [
        "data.describe()"
      ],
      "execution_count": 43,
      "outputs": [
        {
          "output_type": "execute_result",
          "data": {
            "text/html": [
              "\n",
              "  <div id=\"df-0fb032b9-8ce5-4e86-9baa-90adb3b61e07\">\n",
              "    <div class=\"colab-df-container\">\n",
              "      <div>\n",
              "<style scoped>\n",
              "    .dataframe tbody tr th:only-of-type {\n",
              "        vertical-align: middle;\n",
              "    }\n",
              "\n",
              "    .dataframe tbody tr th {\n",
              "        vertical-align: top;\n",
              "    }\n",
              "\n",
              "    .dataframe thead th {\n",
              "        text-align: right;\n",
              "    }\n",
              "</style>\n",
              "<table border=\"1\" class=\"dataframe\">\n",
              "  <thead>\n",
              "    <tr style=\"text-align: right;\">\n",
              "      <th></th>\n",
              "      <th>MedInc</th>\n",
              "      <th>HouseAge</th>\n",
              "      <th>AveRooms</th>\n",
              "      <th>AveBedrms</th>\n",
              "      <th>Population</th>\n",
              "      <th>AveOccup</th>\n",
              "      <th>Latitude</th>\n",
              "      <th>Longitude</th>\n",
              "      <th>classNumber</th>\n",
              "    </tr>\n",
              "  </thead>\n",
              "  <tbody>\n",
              "    <tr>\n",
              "      <th>count</th>\n",
              "      <td>20640.000000</td>\n",
              "      <td>20640.000000</td>\n",
              "      <td>20640.000000</td>\n",
              "      <td>20640.000000</td>\n",
              "      <td>20640.000000</td>\n",
              "      <td>20640.000000</td>\n",
              "      <td>20640.000000</td>\n",
              "      <td>20640.000000</td>\n",
              "      <td>20640.000000</td>\n",
              "    </tr>\n",
              "    <tr>\n",
              "      <th>mean</th>\n",
              "      <td>3.870671</td>\n",
              "      <td>28.639486</td>\n",
              "      <td>5.429000</td>\n",
              "      <td>1.096675</td>\n",
              "      <td>1425.476744</td>\n",
              "      <td>3.070655</td>\n",
              "      <td>35.631861</td>\n",
              "      <td>-119.569704</td>\n",
              "      <td>2.068558</td>\n",
              "    </tr>\n",
              "    <tr>\n",
              "      <th>std</th>\n",
              "      <td>1.899822</td>\n",
              "      <td>12.585558</td>\n",
              "      <td>2.474173</td>\n",
              "      <td>0.473911</td>\n",
              "      <td>1132.462122</td>\n",
              "      <td>10.386050</td>\n",
              "      <td>2.135952</td>\n",
              "      <td>2.003532</td>\n",
              "      <td>1.153956</td>\n",
              "    </tr>\n",
              "    <tr>\n",
              "      <th>min</th>\n",
              "      <td>0.499900</td>\n",
              "      <td>1.000000</td>\n",
              "      <td>0.846154</td>\n",
              "      <td>0.333333</td>\n",
              "      <td>3.000000</td>\n",
              "      <td>0.692308</td>\n",
              "      <td>32.540000</td>\n",
              "      <td>-124.350000</td>\n",
              "      <td>0.149990</td>\n",
              "    </tr>\n",
              "    <tr>\n",
              "      <th>25%</th>\n",
              "      <td>2.563400</td>\n",
              "      <td>18.000000</td>\n",
              "      <td>4.440716</td>\n",
              "      <td>1.006079</td>\n",
              "      <td>787.000000</td>\n",
              "      <td>2.429741</td>\n",
              "      <td>33.930000</td>\n",
              "      <td>-121.800000</td>\n",
              "      <td>1.196000</td>\n",
              "    </tr>\n",
              "    <tr>\n",
              "      <th>50%</th>\n",
              "      <td>3.534800</td>\n",
              "      <td>29.000000</td>\n",
              "      <td>5.229129</td>\n",
              "      <td>1.048780</td>\n",
              "      <td>1166.000000</td>\n",
              "      <td>2.818116</td>\n",
              "      <td>34.260000</td>\n",
              "      <td>-118.490000</td>\n",
              "      <td>1.797000</td>\n",
              "    </tr>\n",
              "    <tr>\n",
              "      <th>75%</th>\n",
              "      <td>4.743250</td>\n",
              "      <td>37.000000</td>\n",
              "      <td>6.052381</td>\n",
              "      <td>1.099526</td>\n",
              "      <td>1725.000000</td>\n",
              "      <td>3.282261</td>\n",
              "      <td>37.710000</td>\n",
              "      <td>-118.010000</td>\n",
              "      <td>2.647250</td>\n",
              "    </tr>\n",
              "    <tr>\n",
              "      <th>max</th>\n",
              "      <td>15.000100</td>\n",
              "      <td>52.000000</td>\n",
              "      <td>141.909091</td>\n",
              "      <td>34.066667</td>\n",
              "      <td>35682.000000</td>\n",
              "      <td>1243.333333</td>\n",
              "      <td>41.950000</td>\n",
              "      <td>-114.310000</td>\n",
              "      <td>5.000010</td>\n",
              "    </tr>\n",
              "  </tbody>\n",
              "</table>\n",
              "</div>\n",
              "      <button class=\"colab-df-convert\" onclick=\"convertToInteractive('df-0fb032b9-8ce5-4e86-9baa-90adb3b61e07')\"\n",
              "              title=\"Convert this dataframe to an interactive table.\"\n",
              "              style=\"display:none;\">\n",
              "        \n",
              "  <svg xmlns=\"http://www.w3.org/2000/svg\" height=\"24px\"viewBox=\"0 0 24 24\"\n",
              "       width=\"24px\">\n",
              "    <path d=\"M0 0h24v24H0V0z\" fill=\"none\"/>\n",
              "    <path d=\"M18.56 5.44l.94 2.06.94-2.06 2.06-.94-2.06-.94-.94-2.06-.94 2.06-2.06.94zm-11 1L8.5 8.5l.94-2.06 2.06-.94-2.06-.94L8.5 2.5l-.94 2.06-2.06.94zm10 10l.94 2.06.94-2.06 2.06-.94-2.06-.94-.94-2.06-.94 2.06-2.06.94z\"/><path d=\"M17.41 7.96l-1.37-1.37c-.4-.4-.92-.59-1.43-.59-.52 0-1.04.2-1.43.59L10.3 9.45l-7.72 7.72c-.78.78-.78 2.05 0 2.83L4 21.41c.39.39.9.59 1.41.59.51 0 1.02-.2 1.41-.59l7.78-7.78 2.81-2.81c.8-.78.8-2.07 0-2.86zM5.41 20L4 18.59l7.72-7.72 1.47 1.35L5.41 20z\"/>\n",
              "  </svg>\n",
              "      </button>\n",
              "      \n",
              "  <style>\n",
              "    .colab-df-container {\n",
              "      display:flex;\n",
              "      flex-wrap:wrap;\n",
              "      gap: 12px;\n",
              "    }\n",
              "\n",
              "    .colab-df-convert {\n",
              "      background-color: #E8F0FE;\n",
              "      border: none;\n",
              "      border-radius: 50%;\n",
              "      cursor: pointer;\n",
              "      display: none;\n",
              "      fill: #1967D2;\n",
              "      height: 32px;\n",
              "      padding: 0 0 0 0;\n",
              "      width: 32px;\n",
              "    }\n",
              "\n",
              "    .colab-df-convert:hover {\n",
              "      background-color: #E2EBFA;\n",
              "      box-shadow: 0px 1px 2px rgba(60, 64, 67, 0.3), 0px 1px 3px 1px rgba(60, 64, 67, 0.15);\n",
              "      fill: #174EA6;\n",
              "    }\n",
              "\n",
              "    [theme=dark] .colab-df-convert {\n",
              "      background-color: #3B4455;\n",
              "      fill: #D2E3FC;\n",
              "    }\n",
              "\n",
              "    [theme=dark] .colab-df-convert:hover {\n",
              "      background-color: #434B5C;\n",
              "      box-shadow: 0px 1px 3px 1px rgba(0, 0, 0, 0.15);\n",
              "      filter: drop-shadow(0px 1px 2px rgba(0, 0, 0, 0.3));\n",
              "      fill: #FFFFFF;\n",
              "    }\n",
              "  </style>\n",
              "\n",
              "      <script>\n",
              "        const buttonEl =\n",
              "          document.querySelector('#df-0fb032b9-8ce5-4e86-9baa-90adb3b61e07 button.colab-df-convert');\n",
              "        buttonEl.style.display =\n",
              "          google.colab.kernel.accessAllowed ? 'block' : 'none';\n",
              "\n",
              "        async function convertToInteractive(key) {\n",
              "          const element = document.querySelector('#df-0fb032b9-8ce5-4e86-9baa-90adb3b61e07');\n",
              "          const dataTable =\n",
              "            await google.colab.kernel.invokeFunction('convertToInteractive',\n",
              "                                                     [key], {});\n",
              "          if (!dataTable) return;\n",
              "\n",
              "          const docLinkHtml = 'Like what you see? Visit the ' +\n",
              "            '<a target=\"_blank\" href=https://colab.research.google.com/notebooks/data_table.ipynb>data table notebook</a>'\n",
              "            + ' to learn more about interactive tables.';\n",
              "          element.innerHTML = '';\n",
              "          dataTable['output_type'] = 'display_data';\n",
              "          await google.colab.output.renderOutput(dataTable, element);\n",
              "          const docLink = document.createElement('div');\n",
              "          docLink.innerHTML = docLinkHtml;\n",
              "          element.appendChild(docLink);\n",
              "        }\n",
              "      </script>\n",
              "    </div>\n",
              "  </div>\n",
              "  "
            ],
            "text/plain": [
              "             MedInc      HouseAge  ...     Longitude   classNumber\n",
              "count  20640.000000  20640.000000  ...  20640.000000  20640.000000\n",
              "mean       3.870671     28.639486  ...   -119.569704      2.068558\n",
              "std        1.899822     12.585558  ...      2.003532      1.153956\n",
              "min        0.499900      1.000000  ...   -124.350000      0.149990\n",
              "25%        2.563400     18.000000  ...   -121.800000      1.196000\n",
              "50%        3.534800     29.000000  ...   -118.490000      1.797000\n",
              "75%        4.743250     37.000000  ...   -118.010000      2.647250\n",
              "max       15.000100     52.000000  ...   -114.310000      5.000010\n",
              "\n",
              "[8 rows x 9 columns]"
            ]
          },
          "metadata": {},
          "execution_count": 43
        }
      ]
    },
    {
      "cell_type": "markdown",
      "metadata": {
        "id": "dOg5p_fO6-T_"
      },
      "source": [
        "**3. Data visualization**"
      ]
    },
    {
      "cell_type": "markdown",
      "source": [
        "3.1 Basic Plots"
      ],
      "metadata": {
        "id": "TPtjMytAa7a0"
      }
    },
    {
      "cell_type": "code",
      "source": [
        "histoPlots = ['MedInc', 'HouseAge']\n",
        "barPlots = ['AveRooms', 'AveBedrms', 'Population', 'AveOccup']\n",
        "\n",
        "for featureName in dataset.feature_names[:6]:\n",
        "  plt.figure()\n",
        "  plt.title(featureName, loc='center', pad=5)\n",
        "  if featureName in barPlots:\n",
        "    data[featureName].plot()\n",
        "  else:\n",
        "    data[featureName].plot.hist()"
      ],
      "metadata": {
        "colab": {
          "base_uri": "https://localhost:8080/",
          "height": 1000
        },
        "id": "0DBT8EOMbDp7",
        "outputId": "5bea19e8-5b96-477a-8ede-bb5f64dc9c28"
      },
      "execution_count": 44,
      "outputs": [
        {
          "output_type": "display_data",
          "data": {
            "image/png": "[encoded data removed]",
            "text/plain": [
              "<Figure size 432x288 with 1 Axes>"
            ]
          },
          "metadata": {
            "needs_background": "light"
          }
        },
        {
          "output_type": "display_data",
          "data": {
            "image/png": "[encoded data removed]",
            "text/plain": [
              "<Figure size 432x288 with 1 Axes>"
            ]
          },
          "metadata": {
            "needs_background": "light"
          }
        },
        {
          "output_type": "display_data",
          "data": {
            "image/png": "[encoded data removed]",
            "text/plain": [
              "<Figure size 432x288 with 1 Axes>"
            ]
          },
          "metadata": {
            "needs_background": "light"
          }
        },
        {
          "output_type": "display_data",
          "data": {
            "image/png": "[encoded data removed]",
            "text/plain": [
              "<Figure size 432x288 with 1 Axes>"
            ]
          },
          "metadata": {
            "needs_background": "light"
          }
        },
        {
          "output_type": "display_data",
          "data": {
            "image/png": "[encoded data removed]",
            "text/plain": [
              "<Figure size 432x288 with 1 Axes>"
            ]
          },
          "metadata": {
            "needs_background": "light"
          }
        },
        {
          "output_type": "display_data",
          "data": {
            "image/png": "[encoded data removed]",
            "text/plain": [
              "<Figure size 432x288 with 1 Axes>"
            ]
          },
          "metadata": {
            "needs_background": "light"
          }
        }
      ]
    },
    {
      "cell_type": "markdown",
      "source": [
        "3.2 2D Location Plot"
      ],
      "metadata": {
        "id": "MIy2NaQSc1Nq"
      }
    },
    {
      "cell_type": "code",
      "source": [
        "latLong = dataset.feature_names[6:8]\n",
        "\n",
        "data[['Longitude', 'Latitude']].plot.scatter(x=latLong[0], y=latLong[1], color=\"LightGreen\")"
      ],
      "metadata": {
        "colab": {
          "base_uri": "https://localhost:8080/",
          "height": 298
        },
        "id": "bUEjwy5rc7uA",
        "outputId": "60c7bd19-d623-4938-e038-04f18ce190f9"
      },
      "execution_count": 18,
      "outputs": [
        {
          "output_type": "execute_result",
          "data": {
            "text/plain": [
              "<matplotlib.axes._subplots.AxesSubplot at 0x7f26cf78bbd0>"
            ]
          },
          "metadata": {},
          "execution_count": 18
        },
        {
          "output_type": "display_data",
          "data": {
            "image/png": "[encoded data removed]",
            "text/plain": [
              "<Figure size 432x288 with 1 Axes>"
            ]
          },
          "metadata": {
            "needs_background": "light"
          }
        }
      ]
    },
    {
      "cell_type": "markdown",
      "metadata": {
        "id": "IciTRaJbhPaJ"
      },
      "source": [
        "**4. Working with Data**"
      ]
    },
    {
      "cell_type": "markdown",
      "metadata": {
        "id": "JRVJMIsVhQfI"
      },
      "source": [
        "4.1 Splitting training set and test set"
      ]
    },
    {
      "cell_type": "code",
      "source": [
        "# Split parameters\n",
        "testSize = 0.2\n",
        "randomState = 2\n",
        "\n",
        "labels = data['MedInc']\n",
        "features = data.drop(['MedInc'], axis=1)\n",
        "\n",
        "featTrain, featTest, labelTrain, labelTest = train_test_split(features, labels, test_size=testSize, random_state=randomState)\n",
        "\n",
        "# Some summaries\n",
        "print('The length of train and test features: ', len(featTrain), len(featTest))\n",
        "print('The length of train and test labels: ', len(labelTrain), len(labelTest))"
      ],
      "metadata": {
        "colab": {
          "base_uri": "https://localhost:8080/"
        },
        "id": "hDGP-0aeKofG",
        "outputId": "6729d7bd-71ef-4a6f-81a2-0d9afba1cfb0"
      },
      "execution_count": 45,
      "outputs": [
        {
          "output_type": "stream",
          "name": "stdout",
          "text": [
            "The length of train and test features:  16512 4128\n",
            "The length of train and test labels:  16512 4128\n"
          ]
        }
      ]
    },
    {
      "cell_type": "markdown",
      "source": [
        "4.2 Training Linear Regression"
      ],
      "metadata": {
        "id": "B7n_j4E4svFm"
      }
    },
    {
      "cell_type": "code",
      "source": [
        "linReg = LinearRegression()\n",
        "# Fitting the linear model\n",
        "linReg.fit(featTrain, labelTrain)\n",
        "# Returning the coefficient of determination of the prediction\n",
        "score = linReg.score(featTest, labelTest)\n",
        "\n",
        "print(\"Score:\", score)\n",
        "print(\"Coefficients:\", linReg.coef_)"
      ],
      "metadata": {
        "colab": {
          "base_uri": "https://localhost:8080/"
        },
        "id": "wG9K94WDKcaj",
        "outputId": "4fc5a1aa-3ba0-4393-b247-1c682393d078"
      },
      "execution_count": 46,
      "outputs": [
        {
          "output_type": "stream",
          "name": "stdout",
          "text": [
            "Score: 0.6912089189201098\n",
            "Coefficients: [-1.35140112e-02  7.97055954e-01 -3.44405324e+00 -3.44814948e-06\n",
            "  7.09374807e-03 -1.62990635e-01 -1.27830683e-01  7.69712566e-01]\n"
          ]
        }
      ]
    },
    {
      "cell_type": "markdown",
      "source": [
        "4.3 Making a prediction"
      ],
      "metadata": {
        "id": "ze7yMXSBtxi_"
      }
    },
    {
      "cell_type": "code",
      "source": [
        "predictions = linReg.predict(featTest)\n",
        "\n",
        "# Meas Square Error (MSE)\n",
        "mse = mean_squared_error(labelTest, predictions)\n",
        "print(\"MSE:\", mse)\n",
        "\n",
        "evalDataFrame = pd.DataFrame([labelTest.values, predictions], index=['Real', 'Predicted'])\n",
        "evalDataFrame"
      ],
      "metadata": {
        "colab": {
          "base_uri": "https://localhost:8080/",
          "height": 223
        },
        "id": "h4zsSnSxtxKm",
        "outputId": "c47d211f-8037-47e5-e7e1-85e420fe3708"
      },
      "execution_count": 63,
      "outputs": [
        {
          "output_type": "stream",
          "name": "stdout",
          "text": [
            "MSE: 1.1450765942962715\n"
          ]
        },
        {
          "output_type": "execute_result",
          "data": {
            "text/html": [
              "\n",
              "  <div id=\"df-3b2706b1-0620-44bf-a159-2744ec1a1675\">\n",
              "    <div class=\"colab-df-container\">\n",
              "      <div>\n",
              "<style scoped>\n",
              "    .dataframe tbody tr th:only-of-type {\n",
              "        vertical-align: middle;\n",
              "    }\n",
              "\n",
              "    .dataframe tbody tr th {\n",
              "        vertical-align: top;\n",
              "    }\n",
              "\n",
              "    .dataframe thead th {\n",
              "        text-align: right;\n",
              "    }\n",
              "</style>\n",
              "<table border=\"1\" class=\"dataframe\">\n",
              "  <thead>\n",
              "    <tr style=\"text-align: right;\">\n",
              "      <th></th>\n",
              "      <th>0</th>\n",
              "      <th>1</th>\n",
              "      <th>2</th>\n",
              "      <th>3</th>\n",
              "      <th>4</th>\n",
              "      <th>5</th>\n",
              "      <th>6</th>\n",
              "      <th>7</th>\n",
              "      <th>8</th>\n",
              "      <th>9</th>\n",
              "      <th>10</th>\n",
              "      <th>11</th>\n",
              "      <th>12</th>\n",
              "      <th>13</th>\n",
              "      <th>14</th>\n",
              "      <th>15</th>\n",
              "      <th>16</th>\n",
              "      <th>17</th>\n",
              "      <th>18</th>\n",
              "      <th>19</th>\n",
              "      <th>20</th>\n",
              "      <th>21</th>\n",
              "      <th>22</th>\n",
              "      <th>23</th>\n",
              "      <th>24</th>\n",
              "      <th>25</th>\n",
              "      <th>26</th>\n",
              "      <th>27</th>\n",
              "      <th>28</th>\n",
              "      <th>29</th>\n",
              "      <th>30</th>\n",
              "      <th>31</th>\n",
              "      <th>32</th>\n",
              "      <th>33</th>\n",
              "      <th>34</th>\n",
              "      <th>35</th>\n",
              "      <th>36</th>\n",
              "      <th>37</th>\n",
              "      <th>38</th>\n",
              "      <th>39</th>\n",
              "      <th>...</th>\n",
              "      <th>4088</th>\n",
              "      <th>4089</th>\n",
              "      <th>4090</th>\n",
              "      <th>4091</th>\n",
              "      <th>4092</th>\n",
              "      <th>4093</th>\n",
              "      <th>4094</th>\n",
              "      <th>4095</th>\n",
              "      <th>4096</th>\n",
              "      <th>4097</th>\n",
              "      <th>4098</th>\n",
              "      <th>4099</th>\n",
              "      <th>4100</th>\n",
              "      <th>4101</th>\n",
              "      <th>4102</th>\n",
              "      <th>4103</th>\n",
              "      <th>4104</th>\n",
              "      <th>4105</th>\n",
              "      <th>4106</th>\n",
              "      <th>4107</th>\n",
              "      <th>4108</th>\n",
              "      <th>4109</th>\n",
              "      <th>4110</th>\n",
              "      <th>4111</th>\n",
              "      <th>4112</th>\n",
              "      <th>4113</th>\n",
              "      <th>4114</th>\n",
              "      <th>4115</th>\n",
              "      <th>4116</th>\n",
              "      <th>4117</th>\n",
              "      <th>4118</th>\n",
              "      <th>4119</th>\n",
              "      <th>4120</th>\n",
              "      <th>4121</th>\n",
              "      <th>4122</th>\n",
              "      <th>4123</th>\n",
              "      <th>4124</th>\n",
              "      <th>4125</th>\n",
              "      <th>4126</th>\n",
              "      <th>4127</th>\n",
              "    </tr>\n",
              "  </thead>\n",
              "  <tbody>\n",
              "    <tr>\n",
              "      <th>Real</th>\n",
              "      <td>6.411400</td>\n",
              "      <td>4.184300</td>\n",
              "      <td>1.741100</td>\n",
              "      <td>3.441200</td>\n",
              "      <td>7.819500</td>\n",
              "      <td>5.45700</td>\n",
              "      <td>4.762500</td>\n",
              "      <td>2.270800</td>\n",
              "      <td>3.815000</td>\n",
              "      <td>3.890600</td>\n",
              "      <td>3.062500</td>\n",
              "      <td>4.013200</td>\n",
              "      <td>6.923800</td>\n",
              "      <td>1.505700</td>\n",
              "      <td>5.248600</td>\n",
              "      <td>2.272700</td>\n",
              "      <td>0.933800</td>\n",
              "      <td>6.511600</td>\n",
              "      <td>4.404200</td>\n",
              "      <td>3.802400</td>\n",
              "      <td>2.140600</td>\n",
              "      <td>9.889200</td>\n",
              "      <td>2.825000</td>\n",
              "      <td>2.896400</td>\n",
              "      <td>2.317300</td>\n",
              "      <td>3.270200</td>\n",
              "      <td>4.652000</td>\n",
              "      <td>2.238600</td>\n",
              "      <td>4.226000</td>\n",
              "      <td>2.107800</td>\n",
              "      <td>2.695900</td>\n",
              "      <td>5.312900</td>\n",
              "      <td>5.004900</td>\n",
              "      <td>3.375000</td>\n",
              "      <td>1.881600</td>\n",
              "      <td>4.47320</td>\n",
              "      <td>3.789100</td>\n",
              "      <td>4.597200</td>\n",
              "      <td>1.610300</td>\n",
              "      <td>1.63410</td>\n",
              "      <td>...</td>\n",
              "      <td>1.638900</td>\n",
              "      <td>4.633600</td>\n",
              "      <td>5.279800</td>\n",
              "      <td>4.861800</td>\n",
              "      <td>5.623300</td>\n",
              "      <td>2.699100</td>\n",
              "      <td>1.6728</td>\n",
              "      <td>1.990600</td>\n",
              "      <td>4.51790</td>\n",
              "      <td>2.057700</td>\n",
              "      <td>4.207100</td>\n",
              "      <td>3.852900</td>\n",
              "      <td>7.961100</td>\n",
              "      <td>5.325400</td>\n",
              "      <td>4.037000</td>\n",
              "      <td>1.190300</td>\n",
              "      <td>2.822600</td>\n",
              "      <td>2.397100</td>\n",
              "      <td>1.344800</td>\n",
              "      <td>1.70830</td>\n",
              "      <td>2.925000</td>\n",
              "      <td>4.403300</td>\n",
              "      <td>2.703600</td>\n",
              "      <td>4.26560</td>\n",
              "      <td>3.676900</td>\n",
              "      <td>8.226900</td>\n",
              "      <td>3.753300</td>\n",
              "      <td>1.277800</td>\n",
              "      <td>4.909100</td>\n",
              "      <td>3.976600</td>\n",
              "      <td>3.652300</td>\n",
              "      <td>2.346300</td>\n",
              "      <td>4.694400</td>\n",
              "      <td>3.609100</td>\n",
              "      <td>1.852300</td>\n",
              "      <td>4.817300</td>\n",
              "      <td>2.080000</td>\n",
              "      <td>2.174300</td>\n",
              "      <td>1.60230</td>\n",
              "      <td>4.222700</td>\n",
              "    </tr>\n",
              "    <tr>\n",
              "      <th>Predicted</th>\n",
              "      <td>6.527074</td>\n",
              "      <td>4.690512</td>\n",
              "      <td>2.325928</td>\n",
              "      <td>3.966773</td>\n",
              "      <td>8.229437</td>\n",
              "      <td>4.54667</td>\n",
              "      <td>4.646454</td>\n",
              "      <td>1.813186</td>\n",
              "      <td>3.138347</td>\n",
              "      <td>4.291017</td>\n",
              "      <td>4.569783</td>\n",
              "      <td>8.114805</td>\n",
              "      <td>5.613665</td>\n",
              "      <td>2.193396</td>\n",
              "      <td>5.455763</td>\n",
              "      <td>2.467173</td>\n",
              "      <td>0.818039</td>\n",
              "      <td>5.460114</td>\n",
              "      <td>3.915433</td>\n",
              "      <td>3.754524</td>\n",
              "      <td>1.979924</td>\n",
              "      <td>8.619318</td>\n",
              "      <td>3.488712</td>\n",
              "      <td>2.890907</td>\n",
              "      <td>1.784424</td>\n",
              "      <td>2.703107</td>\n",
              "      <td>5.895579</td>\n",
              "      <td>2.358119</td>\n",
              "      <td>3.757434</td>\n",
              "      <td>2.269477</td>\n",
              "      <td>2.796143</td>\n",
              "      <td>4.258387</td>\n",
              "      <td>5.188859</td>\n",
              "      <td>3.745755</td>\n",
              "      <td>1.635738</td>\n",
              "      <td>4.85968</td>\n",
              "      <td>2.722072</td>\n",
              "      <td>2.765036</td>\n",
              "      <td>1.713887</td>\n",
              "      <td>2.01528</td>\n",
              "      <td>...</td>\n",
              "      <td>3.082739</td>\n",
              "      <td>3.782766</td>\n",
              "      <td>5.106131</td>\n",
              "      <td>5.981376</td>\n",
              "      <td>6.073281</td>\n",
              "      <td>3.034346</td>\n",
              "      <td>2.1769</td>\n",
              "      <td>2.637721</td>\n",
              "      <td>4.00104</td>\n",
              "      <td>2.245519</td>\n",
              "      <td>3.520699</td>\n",
              "      <td>4.222326</td>\n",
              "      <td>7.016824</td>\n",
              "      <td>5.404723</td>\n",
              "      <td>3.155153</td>\n",
              "      <td>2.606084</td>\n",
              "      <td>2.866404</td>\n",
              "      <td>2.576464</td>\n",
              "      <td>1.986381</td>\n",
              "      <td>1.38753</td>\n",
              "      <td>3.062299</td>\n",
              "      <td>5.898693</td>\n",
              "      <td>2.581107</td>\n",
              "      <td>4.32308</td>\n",
              "      <td>4.915248</td>\n",
              "      <td>7.647167</td>\n",
              "      <td>3.690434</td>\n",
              "      <td>1.320933</td>\n",
              "      <td>4.492984</td>\n",
              "      <td>4.207364</td>\n",
              "      <td>3.762649</td>\n",
              "      <td>3.002951</td>\n",
              "      <td>3.622876</td>\n",
              "      <td>3.266304</td>\n",
              "      <td>2.291751</td>\n",
              "      <td>4.037417</td>\n",
              "      <td>2.297794</td>\n",
              "      <td>2.417158</td>\n",
              "      <td>1.86134</td>\n",
              "      <td>4.371208</td>\n",
              "    </tr>\n",
              "  </tbody>\n",
              "</table>\n",
              "<p>2 rows × 4128 columns</p>\n",
              "</div>\n",
              "      <button class=\"colab-df-convert\" onclick=\"convertToInteractive('df-3b2706b1-0620-44bf-a159-2744ec1a1675')\"\n",
              "              title=\"Convert this dataframe to an interactive table.\"\n",
              "              style=\"display:none;\">\n",
              "        \n",
              "  <svg xmlns=\"http://www.w3.org/2000/svg\" height=\"24px\"viewBox=\"0 0 24 24\"\n",
              "       width=\"24px\">\n",
              "    <path d=\"M0 0h24v24H0V0z\" fill=\"none\"/>\n",
              "    <path d=\"M18.56 5.44l.94 2.06.94-2.06 2.06-.94-2.06-.94-.94-2.06-.94 2.06-2.06.94zm-11 1L8.5 8.5l.94-2.06 2.06-.94-2.06-.94L8.5 2.5l-.94 2.06-2.06.94zm10 10l.94 2.06.94-2.06 2.06-.94-2.06-.94-.94-2.06-.94 2.06-2.06.94z\"/><path d=\"M17.41 7.96l-1.37-1.37c-.4-.4-.92-.59-1.43-.59-.52 0-1.04.2-1.43.59L10.3 9.45l-7.72 7.72c-.78.78-.78 2.05 0 2.83L4 21.41c.39.39.9.59 1.41.59.51 0 1.02-.2 1.41-.59l7.78-7.78 2.81-2.81c.8-.78.8-2.07 0-2.86zM5.41 20L4 18.59l7.72-7.72 1.47 1.35L5.41 20z\"/>\n",
              "  </svg>\n",
              "      </button>\n",
              "      \n",
              "  <style>\n",
              "    .colab-df-container {\n",
              "      display:flex;\n",
              "      flex-wrap:wrap;\n",
              "      gap: 12px;\n",
              "    }\n",
              "\n",
              "    .colab-df-convert {\n",
              "      background-color: #E8F0FE;\n",
              "      border: none;\n",
              "      border-radius: 50%;\n",
              "      cursor: pointer;\n",
              "      display: none;\n",
              "      fill: #1967D2;\n",
              "      height: 32px;\n",
              "      padding: 0 0 0 0;\n",
              "      width: 32px;\n",
              "    }\n",
              "\n",
              "    .colab-df-convert:hover {\n",
              "      background-color: #E2EBFA;\n",
              "      box-shadow: 0px 1px 2px rgba(60, 64, 67, 0.3), 0px 1px 3px 1px rgba(60, 64, 67, 0.15);\n",
              "      fill: #174EA6;\n",
              "    }\n",
              "\n",
              "    [theme=dark] .colab-df-convert {\n",
              "      background-color: #3B4455;\n",
              "      fill: #D2E3FC;\n",
              "    }\n",
              "\n",
              "    [theme=dark] .colab-df-convert:hover {\n",
              "      background-color: #434B5C;\n",
              "      box-shadow: 0px 1px 3px 1px rgba(0, 0, 0, 0.15);\n",
              "      filter: drop-shadow(0px 1px 2px rgba(0, 0, 0, 0.3));\n",
              "      fill: #FFFFFF;\n",
              "    }\n",
              "  </style>\n",
              "\n",
              "      <script>\n",
              "        const buttonEl =\n",
              "          document.querySelector('#df-3b2706b1-0620-44bf-a159-2744ec1a1675 button.colab-df-convert');\n",
              "        buttonEl.style.display =\n",
              "          google.colab.kernel.accessAllowed ? 'block' : 'none';\n",
              "\n",
              "        async function convertToInteractive(key) {\n",
              "          const element = document.querySelector('#df-3b2706b1-0620-44bf-a159-2744ec1a1675');\n",
              "          const dataTable =\n",
              "            await google.colab.kernel.invokeFunction('convertToInteractive',\n",
              "                                                     [key], {});\n",
              "          if (!dataTable) return;\n",
              "\n",
              "          const docLinkHtml = 'Like what you see? Visit the ' +\n",
              "            '<a target=\"_blank\" href=https://colab.research.google.com/notebooks/data_table.ipynb>data table notebook</a>'\n",
              "            + ' to learn more about interactive tables.';\n",
              "          element.innerHTML = '';\n",
              "          dataTable['output_type'] = 'display_data';\n",
              "          await google.colab.output.renderOutput(dataTable, element);\n",
              "          const docLink = document.createElement('div');\n",
              "          docLink.innerHTML = docLinkHtml;\n",
              "          element.appendChild(docLink);\n",
              "        }\n",
              "      </script>\n",
              "    </div>\n",
              "  </div>\n",
              "  "
            ],
            "text/plain": [
              "               0         1         2     ...      4125     4126      4127\n",
              "Real       6.411400  4.184300  1.741100  ...  2.174300  1.60230  4.222700\n",
              "Predicted  6.527074  4.690512  2.325928  ...  2.417158  1.86134  4.371208\n",
              "\n",
              "[2 rows x 4128 columns]"
            ]
          },
          "metadata": {},
          "execution_count": 63
        }
      ]
    }
  ]
}