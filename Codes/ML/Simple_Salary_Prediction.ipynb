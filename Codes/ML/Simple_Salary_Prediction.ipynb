{
  "nbformat": 4,
  "nbformat_minor": 0,
  "metadata": {
    "colab": {
      "name": "Simple_Salary_Prediction.ipynb",
      "provenance": [],
      "collapsed_sections": [],
      "authorship_tag": "ABX9TyO6/RfZBxvkI9OqxH4kCmGO",
      "include_colab_link": true
    },
    "kernelspec": {
      "name": "python3",
      "display_name": "Python 3"
    },
    "language_info": {
      "name": "python"
    }
  },
  "cells": [
    {
      "cell_type": "markdown",
      "metadata": {
        "id": "view-in-github",
        "colab_type": "text"
      },
      "source": [
        "<a href=\"https://colab.research.google.com/github/alitourani/deep-learning-from-scratch/blob/main/Codes/ML/Simple_Salary_Prediction.ipynb\" target=\"_parent\"><img src=\"https://colab.research.google.com/assets/colab-badge.svg\" alt=\"Open In Colab\"/></a>"
      ]
    },
    {
      "cell_type": "markdown",
      "metadata": {
        "id": "ix7LvQoIXdD3"
      },
      "source": [
        "# **Simple Salary Prediction**\n",
        "\n",
        "🎯 **Goal:** The main goal of this application is to predict the salary of a person based on his/her work experience\n",
        "\n",
        "🗄️ **Dataset Source:** https://www.payscale.com/research/US/Job=Computer_Programmer/Salary"
      ]
    },
    {
      "cell_type": "markdown",
      "metadata": {
        "id": "9zCMABh4Ydtg"
      },
      "source": [
        "**1. Import Libraries**"
      ]
    },
    {
      "cell_type": "code",
      "metadata": {
        "id": "YKJ2poTxXW8K"
      },
      "source": [
        "import numpy as np\n",
        "import pandas as pd\n",
        "from sklearn.linear_model import LinearRegression\n",
        "from sklearn.model_selection import train_test_split"
      ],
      "execution_count": null,
      "outputs": []
    },
    {
      "cell_type": "markdown",
      "metadata": {
        "id": "02EnyS7JYwDu"
      },
      "source": [
        "**2. Create the Dataset**"
      ]
    },
    {
      "cell_type": "code",
      "metadata": {
        "colab": {
          "base_uri": "https://localhost:8080/",
          "height": 729
        },
        "id": "w2Kf5Y2cY1U2",
        "outputId": "094c0023-c4d5-47a4-fe6a-1c44cef530c9"
      },
      "source": [
        "# Columns of the dataset\n",
        "columns = ['Years experience', 'Salary']\n",
        "\n",
        "# Data (estimation): a list of (year, salary) pairs\n",
        "data = np.array([[0, 58.5], [2, 59.2], [4, 60.0], [6, 66.0], [8, 70.4], [10, 76.6], [19, 79.0], [22, 87.5]])\n",
        "\n",
        "# Creating the DataFrame\n",
        "dataset = pd.DataFrame(data, columns=columns)\n",
        "print('Shape of the dataset (rows, cols):', dataset.shape)\n",
        "print('\\nDataset instances:\\n', dataset)\n",
        "print('\\nA brief summary:\\n', dataset.describe(), '\\n')\n",
        "\n",
        "# Plotting the dataset\n",
        "dataset.plot(x=columns[0], y=columns[1], kind=\"area\", \n",
        "             title=\"Visualization of Dataset\")"
      ],
      "execution_count": null,
      "outputs": [
        {
          "output_type": "stream",
          "name": "stdout",
          "text": [
            "Shape of the dataset (rows, cols): (8, 2)\n",
            "\n",
            "Dataset instances:\n",
            "    Years experience  Salary\n",
            "0               0.0    58.5\n",
            "1               2.0    59.2\n",
            "2               4.0    60.0\n",
            "3               6.0    66.0\n",
            "4               8.0    70.4\n",
            "5              10.0    76.6\n",
            "6              19.0    79.0\n",
            "7              22.0    87.5\n",
            "\n",
            "A brief summary:\n",
            "        Years experience     Salary\n",
            "count          8.000000   8.000000\n",
            "mean           8.875000  69.650000\n",
            "std            7.881941  10.656185\n",
            "min            0.000000  58.500000\n",
            "25%            3.500000  59.800000\n",
            "50%            7.000000  68.200000\n",
            "75%           12.250000  77.200000\n",
            "max           22.000000  87.500000 \n",
            "\n"
          ]
        },
        {
          "output_type": "execute_result",
          "data": {
            "text/plain": [
              "<matplotlib.axes._subplots.AxesSubplot at 0x7fb370ca4a10>"
            ]
          },
          "metadata": {},
          "execution_count": 26
        },
        {
          "output_type": "display_data",
          "data": {
            "image/png": "[encoded data removed]",
            "text/plain": [
              "<Figure size 432x288 with 1 Axes>"
            ]
          },
          "metadata": {
            "needs_background": "light"
          }
        }
      ]
    },
    {
      "cell_type": "markdown",
      "metadata": {
        "id": "a44AQuO3dNa3"
      },
      "source": [
        "**3. Working with Data**"
      ]
    },
    {
      "cell_type": "markdown",
      "metadata": {
        "id": "YbT6rIzif3cW"
      },
      "source": [
        "3.1. Splitting training set and test set"
      ]
    },
    {
      "cell_type": "code",
      "metadata": {
        "colab": {
          "base_uri": "https://localhost:8080/"
        },
        "id": "m5TKOFcTdROu",
        "outputId": "4f10166c-36ea-4dd7-9fb0-ef2a0ed87b3d"
      },
      "source": [
        "# Projecting dataset columns\n",
        "experiences = dataset[[columns[0]]]\n",
        "salaries = dataset[columns[1]]\n",
        "\n",
        "# Configuration\n",
        "testSize = 0.2 # 20% for test and 80% for train\n",
        "\n",
        "# Splitting\n",
        "experienceTrain, experienceTest, salaryTrain, salaryTest = train_test_split(experiences, salaries, test_size=testSize, random_state=101)\n",
        "\n",
        "# Sample DataFrames for visualization of training and test set\n",
        "trainingData = experienceTrain.merge(salaryTrain, right_index=True, left_index=True, sort=True)\n",
        "testData = experienceTest.merge(salaryTest, right_index=True, left_index=True, sort=True)\n",
        "\n",
        "print('Training Data:\\n', trainingData)\n",
        "print('\\nTest Data:\\n', testData)"
      ],
      "execution_count": null,
      "outputs": [
        {
          "output_type": "stream",
          "name": "stdout",
          "text": [
            "Training Data:\n",
            "    Years experience  Salary\n",
            "1               2.0    59.2\n",
            "3               6.0    66.0\n",
            "4               8.0    70.4\n",
            "5              10.0    76.6\n",
            "6              19.0    79.0\n",
            "7              22.0    87.5\n",
            "\n",
            "Test Data:\n",
            "    Years experience  Salary\n",
            "0               0.0    58.5\n",
            "2               4.0    60.0\n"
          ]
        }
      ]
    },
    {
      "cell_type": "markdown",
      "metadata": {
        "id": "QiamON6KiIfP"
      },
      "source": [
        "3.2. Training the Model"
      ]
    },
    {
      "cell_type": "code",
      "metadata": {
        "colab": {
          "base_uri": "https://localhost:8080/"
        },
        "id": "KckXj-l7iL-X",
        "outputId": "3651fed7-9a44-4d2c-d82f-60f042ac8019"
      },
      "source": [
        "# In this example, we are using the Linear Regression model, as the prediction (salary) is a continuous number\n",
        "model = LinearRegression()\n",
        "\n",
        "# Fitting the model with training data\n",
        "model.fit(experienceTrain, salaryTrain)"
      ],
      "execution_count": null,
      "outputs": [
        {
          "output_type": "execute_result",
          "data": {
            "text/plain": [
              "LinearRegression(copy_X=True, fit_intercept=True, n_jobs=None, normalize=False)"
            ]
          },
          "metadata": {},
          "execution_count": 28
        }
      ]
    },
    {
      "cell_type": "markdown",
      "metadata": {
        "id": "PoyOCnQpizLH"
      },
      "source": [
        "3.3. Testing the Model"
      ]
    },
    {
      "cell_type": "code",
      "metadata": {
        "colab": {
          "base_uri": "https://localhost:8080/"
        },
        "id": "vQ7lEOy_i1hS",
        "outputId": "255995cc-42c8-406b-ae71-4e4f1fd17d82"
      },
      "source": [
        "# Accuracy of the model\n",
        "predictions = model.predict(experienceTest)\n",
        "\n",
        "print('Actual Data:', salaryTest.values)\n",
        "print('Predicted Data:', predictions)\n",
        "\n",
        "# The coefficient of determination of the prediction\n",
        "score = model.score(experiences, salaries)\n",
        "print('\\nCoefficient Score:', round(score, 2))"
      ],
      "execution_count": null,
      "outputs": [
        {
          "output_type": "stream",
          "name": "stdout",
          "text": [
            "Actual Data: [58.5 60. ]\n",
            "Predicted Data: [59.35351801 64.28360111]\n",
            "\n",
            "Coefficient Score: 0.92\n"
          ]
        }
      ]
    }
  ]
}